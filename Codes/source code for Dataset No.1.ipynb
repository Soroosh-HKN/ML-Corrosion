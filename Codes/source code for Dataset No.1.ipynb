{
 "cells": [
  {
   "cell_type": "markdown",
   "metadata": {},
   "source": [
    "# Application of Machine Learning for the Classification of Corrosion Behavior in Different Environments for Material Selection of Stainless Steels (for Dataset No. 1)\n",
    "\n",
    "In order to classify the corrosion behavior of stainless steel alloys in the different environments, following steps are considered according to the attached paper.\n",
    "\n",
    "Firstly, the necessary libraries are imported.\n"
   ]
  },
  {
   "cell_type": "code",
   "execution_count": 1,
   "metadata": {},
   "outputs": [],
   "source": [
    "import numpy as np\n",
    "import matplotlib\n",
    "import matplotlib.pyplot as plt\n",
    "import sklearn\n",
    "import sklearn.tree        \n",
    "import sklearn.metrics     \n",
    "from itertools import cycle\n",
    "from sklearn.model_selection import train_test_split\n",
    "from sklearn.preprocessing import label_binarize\n",
    "from sklearn.multiclass import OneVsRestClassifier\n",
    "from sklearn import svm, datasets\n",
    "import scipy\n",
    "import scipy.stats\n",
    "from sklearn.metrics import roc_curve, auc, plot_confusion_matrix, roc_auc_score, confusion_matrix, ConfusionMatrixDisplay\n",
    "from scipy import interp\n",
    "import sklearn.ensemble\n",
    "import sklearn.cluster\n",
    "import pandas as pd\n",
    "from sklearn.pipeline import make_pipeline\n",
    "from sklearn.preprocessing import LabelEncoder\n",
    "from sklearn.datasets import load_iris\n",
    "from sklearn.feature_selection import SelectKBest\n",
    "from sklearn.feature_selection import f_classif\n",
    "from sklearn.model_selection import GridSearchCV\n",
    "import random\n",
    "from sklearn.ensemble import BaggingClassifier\n",
    "from sklearn.tree import DecisionTreeClassifier"
   ]
  },
  {
   "cell_type": "markdown",
   "metadata": {},
   "source": [
    "## Step 1: Loading the Data\n",
    "\n",
    "After preprocessing steps explained elaborately in the paper (Section 2.1), the data will be loaded by running the below cell:"
   ]
  },
  {
   "cell_type": "code",
   "execution_count": 2,
   "metadata": {},
   "outputs": [
    {
     "name": "stdout",
     "output_type": "stream",
     "text": [
      "  ASTM Material     C    Mn   Si      P     S    Cr   Mo    Ni    N  ...  \\\n",
      "0           403  0.15  1.00  0.5  0.040  0.03  11.5  0.0  0.60  0.0  ...   \n",
      "1           405  0.08  1.00  1.0  0.040  0.03  11.5  0.0  0.60  0.0  ...   \n",
      "2        S41050  0.04  1.00  1.0  0.045  0.03  10.5  0.0  0.60  0.1  ...   \n",
      "3           416  0.15  1.25  1.0  0.060  0.35  12.0  0.0  0.00  0.0  ...   \n",
      "4           410  0.15  1.00  1.0  0.040  0.03  11.5  0.0  0.75  0.0  ...   \n",
      "\n",
      "   Sulfuric acid (H2SO4)  Nitric acid (HNO3)  Hydrocloric acid (HCl)  \\\n",
      "0                    0.0                   0                     0.0   \n",
      "1                    0.0                   0                     0.0   \n",
      "2                    0.0                   0                     0.0   \n",
      "3                    0.0                   0                     0.0   \n",
      "4                    0.0                   0                     0.0   \n",
      "\n",
      "   Citric acid(HOC(CH2COOH)2COOH.H2O  KHSO4  KNO3  MgCl2.6H2O  Temperature  \\\n",
      "0                                  0      0     0           0         20.0   \n",
      "1                                  0      0     0           0         20.0   \n",
      "2                                  0      0     0           0         20.0   \n",
      "3                                  0      0     0           0         20.0   \n",
      "4                                  0      0     0           0         20.0   \n",
      "\n",
      "   Behavior  Pitting_label  \n",
      "0      Poor              0  \n",
      "1      Poor              0  \n",
      "2      Poor              0  \n",
      "3      Poor              0  \n",
      "4      Poor              0  \n",
      "\n",
      "[5 rows x 31 columns]\n"
     ]
    }
   ],
   "source": [
    "#Loading the input data\n",
    "\n",
    "Data=pd.read_csv('Dataset No.1.csv')\n",
    "print(Data.head())"
   ]
  },
  {
   "cell_type": "code",
   "execution_count": 3,
   "metadata": {},
   "outputs": [
    {
     "data": {
      "text/html": [
       "<div>\n",
       "<style scoped>\n",
       "    .dataframe tbody tr th:only-of-type {\n",
       "        vertical-align: middle;\n",
       "    }\n",
       "\n",
       "    .dataframe tbody tr th {\n",
       "        vertical-align: top;\n",
       "    }\n",
       "\n",
       "    .dataframe thead th {\n",
       "        text-align: right;\n",
       "    }\n",
       "</style>\n",
       "<table border=\"1\" class=\"dataframe\">\n",
       "  <thead>\n",
       "    <tr style=\"text-align: right;\">\n",
       "      <th></th>\n",
       "      <th>ASTM Material</th>\n",
       "      <th>C</th>\n",
       "      <th>Mn</th>\n",
       "      <th>Si</th>\n",
       "      <th>P</th>\n",
       "      <th>S</th>\n",
       "      <th>Cr</th>\n",
       "      <th>Mo</th>\n",
       "      <th>Ni</th>\n",
       "      <th>N</th>\n",
       "      <th>...</th>\n",
       "      <th>Phosphric acid (H3PO4)</th>\n",
       "      <th>Sulfuric acid (H2SO4)</th>\n",
       "      <th>Nitric acid (HNO3)</th>\n",
       "      <th>Hydrocloric acid (HCl)</th>\n",
       "      <th>Citric acid(HOC(CH2COOH)2COOH.H2O</th>\n",
       "      <th>KHSO4</th>\n",
       "      <th>KNO3</th>\n",
       "      <th>MgCl2.6H2O</th>\n",
       "      <th>Temperature</th>\n",
       "      <th>Pitting_label</th>\n",
       "    </tr>\n",
       "    <tr>\n",
       "      <th>Behavior</th>\n",
       "      <th></th>\n",
       "      <th></th>\n",
       "      <th></th>\n",
       "      <th></th>\n",
       "      <th></th>\n",
       "      <th></th>\n",
       "      <th></th>\n",
       "      <th></th>\n",
       "      <th></th>\n",
       "      <th></th>\n",
       "      <th></th>\n",
       "      <th></th>\n",
       "      <th></th>\n",
       "      <th></th>\n",
       "      <th></th>\n",
       "      <th></th>\n",
       "      <th></th>\n",
       "      <th></th>\n",
       "      <th></th>\n",
       "      <th></th>\n",
       "      <th></th>\n",
       "    </tr>\n",
       "  </thead>\n",
       "  <tbody>\n",
       "    <tr>\n",
       "      <th>Good</th>\n",
       "      <td>722</td>\n",
       "      <td>722</td>\n",
       "      <td>722</td>\n",
       "      <td>722</td>\n",
       "      <td>722</td>\n",
       "      <td>722</td>\n",
       "      <td>722</td>\n",
       "      <td>722</td>\n",
       "      <td>722</td>\n",
       "      <td>722</td>\n",
       "      <td>...</td>\n",
       "      <td>722</td>\n",
       "      <td>722</td>\n",
       "      <td>722</td>\n",
       "      <td>722</td>\n",
       "      <td>722</td>\n",
       "      <td>722</td>\n",
       "      <td>722</td>\n",
       "      <td>722</td>\n",
       "      <td>722</td>\n",
       "      <td>722</td>\n",
       "    </tr>\n",
       "    <tr>\n",
       "      <th>Poor</th>\n",
       "      <td>753</td>\n",
       "      <td>753</td>\n",
       "      <td>753</td>\n",
       "      <td>753</td>\n",
       "      <td>753</td>\n",
       "      <td>753</td>\n",
       "      <td>753</td>\n",
       "      <td>753</td>\n",
       "      <td>753</td>\n",
       "      <td>753</td>\n",
       "      <td>...</td>\n",
       "      <td>753</td>\n",
       "      <td>753</td>\n",
       "      <td>753</td>\n",
       "      <td>753</td>\n",
       "      <td>753</td>\n",
       "      <td>753</td>\n",
       "      <td>753</td>\n",
       "      <td>753</td>\n",
       "      <td>753</td>\n",
       "      <td>753</td>\n",
       "    </tr>\n",
       "    <tr>\n",
       "      <th>Resistant</th>\n",
       "      <td>1311</td>\n",
       "      <td>1311</td>\n",
       "      <td>1311</td>\n",
       "      <td>1311</td>\n",
       "      <td>1311</td>\n",
       "      <td>1311</td>\n",
       "      <td>1311</td>\n",
       "      <td>1311</td>\n",
       "      <td>1311</td>\n",
       "      <td>1311</td>\n",
       "      <td>...</td>\n",
       "      <td>1311</td>\n",
       "      <td>1311</td>\n",
       "      <td>1311</td>\n",
       "      <td>1311</td>\n",
       "      <td>1311</td>\n",
       "      <td>1311</td>\n",
       "      <td>1311</td>\n",
       "      <td>1311</td>\n",
       "      <td>1311</td>\n",
       "      <td>1311</td>\n",
       "    </tr>\n",
       "    <tr>\n",
       "      <th>Severe</th>\n",
       "      <td>1233</td>\n",
       "      <td>1233</td>\n",
       "      <td>1233</td>\n",
       "      <td>1233</td>\n",
       "      <td>1233</td>\n",
       "      <td>1233</td>\n",
       "      <td>1233</td>\n",
       "      <td>1233</td>\n",
       "      <td>1233</td>\n",
       "      <td>1233</td>\n",
       "      <td>...</td>\n",
       "      <td>1233</td>\n",
       "      <td>1233</td>\n",
       "      <td>1233</td>\n",
       "      <td>1233</td>\n",
       "      <td>1233</td>\n",
       "      <td>1233</td>\n",
       "      <td>1233</td>\n",
       "      <td>1233</td>\n",
       "      <td>1233</td>\n",
       "      <td>1233</td>\n",
       "    </tr>\n",
       "  </tbody>\n",
       "</table>\n",
       "<p>4 rows × 30 columns</p>\n",
       "</div>"
      ],
      "text/plain": [
       "           ASTM Material     C    Mn    Si     P     S    Cr    Mo    Ni  \\\n",
       "Behavior                                                                   \n",
       "Good                 722   722   722   722   722   722   722   722   722   \n",
       "Poor                 753   753   753   753   753   753   753   753   753   \n",
       "Resistant           1311  1311  1311  1311  1311  1311  1311  1311  1311   \n",
       "Severe              1233  1233  1233  1233  1233  1233  1233  1233  1233   \n",
       "\n",
       "              N  ...  Phosphric acid (H3PO4)  Sulfuric acid (H2SO4)  \\\n",
       "Behavior         ...                                                  \n",
       "Good        722  ...                     722                    722   \n",
       "Poor        753  ...                     753                    753   \n",
       "Resistant  1311  ...                    1311                   1311   \n",
       "Severe     1233  ...                    1233                   1233   \n",
       "\n",
       "           Nitric acid (HNO3)  Hydrocloric acid (HCl)  \\\n",
       "Behavior                                                \n",
       "Good                      722                     722   \n",
       "Poor                      753                     753   \n",
       "Resistant                1311                    1311   \n",
       "Severe                   1233                    1233   \n",
       "\n",
       "           Citric acid(HOC(CH2COOH)2COOH.H2O  KHSO4  KNO3  MgCl2.6H2O  \\\n",
       "Behavior                                                                \n",
       "Good                                     722    722   722         722   \n",
       "Poor                                     753    753   753         753   \n",
       "Resistant                               1311   1311  1311        1311   \n",
       "Severe                                  1233   1233  1233        1233   \n",
       "\n",
       "           Temperature  Pitting_label  \n",
       "Behavior                               \n",
       "Good               722            722  \n",
       "Poor               753            753  \n",
       "Resistant         1311           1311  \n",
       "Severe            1233           1233  \n",
       "\n",
       "[4 rows x 30 columns]"
      ]
     },
     "execution_count": 3,
     "metadata": {},
     "output_type": "execute_result"
    }
   ],
   "source": [
    "#Counting the number of classes our target variable has\n",
    "Data.groupby('Behavior').count()"
   ]
  },
  {
   "cell_type": "code",
   "execution_count": 4,
   "metadata": {},
   "outputs": [
    {
     "data": {
      "text/html": [
       "<div>\n",
       "<style scoped>\n",
       "    .dataframe tbody tr th:only-of-type {\n",
       "        vertical-align: middle;\n",
       "    }\n",
       "\n",
       "    .dataframe tbody tr th {\n",
       "        vertical-align: top;\n",
       "    }\n",
       "\n",
       "    .dataframe thead th {\n",
       "        text-align: right;\n",
       "    }\n",
       "</style>\n",
       "<table border=\"1\" class=\"dataframe\">\n",
       "  <thead>\n",
       "    <tr style=\"text-align: right;\">\n",
       "      <th></th>\n",
       "      <th>ASTM Material</th>\n",
       "      <th>C</th>\n",
       "      <th>Mn</th>\n",
       "      <th>Si</th>\n",
       "      <th>P</th>\n",
       "      <th>S</th>\n",
       "      <th>Cr</th>\n",
       "      <th>Mo</th>\n",
       "      <th>Ni</th>\n",
       "      <th>N</th>\n",
       "      <th>...</th>\n",
       "      <th>Sulfuric acid (H2SO4)</th>\n",
       "      <th>Nitric acid (HNO3)</th>\n",
       "      <th>Hydrocloric acid (HCl)</th>\n",
       "      <th>Citric acid(HOC(CH2COOH)2COOH.H2O</th>\n",
       "      <th>KHSO4</th>\n",
       "      <th>KNO3</th>\n",
       "      <th>MgCl2.6H2O</th>\n",
       "      <th>Temperature</th>\n",
       "      <th>Behavior</th>\n",
       "      <th>Pitting_label</th>\n",
       "    </tr>\n",
       "  </thead>\n",
       "  <tbody>\n",
       "    <tr>\n",
       "      <th>0</th>\n",
       "      <td>403</td>\n",
       "      <td>0.15</td>\n",
       "      <td>1.00</td>\n",
       "      <td>0.50</td>\n",
       "      <td>0.040</td>\n",
       "      <td>0.03</td>\n",
       "      <td>11.5</td>\n",
       "      <td>0.0</td>\n",
       "      <td>0.60</td>\n",
       "      <td>0.00</td>\n",
       "      <td>...</td>\n",
       "      <td>0.0</td>\n",
       "      <td>0</td>\n",
       "      <td>0.0</td>\n",
       "      <td>0</td>\n",
       "      <td>0</td>\n",
       "      <td>0</td>\n",
       "      <td>0</td>\n",
       "      <td>20.0</td>\n",
       "      <td>1</td>\n",
       "      <td>0</td>\n",
       "    </tr>\n",
       "    <tr>\n",
       "      <th>1</th>\n",
       "      <td>405</td>\n",
       "      <td>0.08</td>\n",
       "      <td>1.00</td>\n",
       "      <td>1.00</td>\n",
       "      <td>0.040</td>\n",
       "      <td>0.03</td>\n",
       "      <td>11.5</td>\n",
       "      <td>0.0</td>\n",
       "      <td>0.60</td>\n",
       "      <td>0.00</td>\n",
       "      <td>...</td>\n",
       "      <td>0.0</td>\n",
       "      <td>0</td>\n",
       "      <td>0.0</td>\n",
       "      <td>0</td>\n",
       "      <td>0</td>\n",
       "      <td>0</td>\n",
       "      <td>0</td>\n",
       "      <td>20.0</td>\n",
       "      <td>1</td>\n",
       "      <td>0</td>\n",
       "    </tr>\n",
       "    <tr>\n",
       "      <th>2</th>\n",
       "      <td>S41050</td>\n",
       "      <td>0.04</td>\n",
       "      <td>1.00</td>\n",
       "      <td>1.00</td>\n",
       "      <td>0.045</td>\n",
       "      <td>0.03</td>\n",
       "      <td>10.5</td>\n",
       "      <td>0.0</td>\n",
       "      <td>0.60</td>\n",
       "      <td>0.10</td>\n",
       "      <td>...</td>\n",
       "      <td>0.0</td>\n",
       "      <td>0</td>\n",
       "      <td>0.0</td>\n",
       "      <td>0</td>\n",
       "      <td>0</td>\n",
       "      <td>0</td>\n",
       "      <td>0</td>\n",
       "      <td>20.0</td>\n",
       "      <td>1</td>\n",
       "      <td>0</td>\n",
       "    </tr>\n",
       "    <tr>\n",
       "      <th>3</th>\n",
       "      <td>416</td>\n",
       "      <td>0.15</td>\n",
       "      <td>1.25</td>\n",
       "      <td>1.00</td>\n",
       "      <td>0.060</td>\n",
       "      <td>0.35</td>\n",
       "      <td>12.0</td>\n",
       "      <td>0.0</td>\n",
       "      <td>0.00</td>\n",
       "      <td>0.00</td>\n",
       "      <td>...</td>\n",
       "      <td>0.0</td>\n",
       "      <td>0</td>\n",
       "      <td>0.0</td>\n",
       "      <td>0</td>\n",
       "      <td>0</td>\n",
       "      <td>0</td>\n",
       "      <td>0</td>\n",
       "      <td>20.0</td>\n",
       "      <td>1</td>\n",
       "      <td>0</td>\n",
       "    </tr>\n",
       "    <tr>\n",
       "      <th>4</th>\n",
       "      <td>410</td>\n",
       "      <td>0.15</td>\n",
       "      <td>1.00</td>\n",
       "      <td>1.00</td>\n",
       "      <td>0.040</td>\n",
       "      <td>0.03</td>\n",
       "      <td>11.5</td>\n",
       "      <td>0.0</td>\n",
       "      <td>0.75</td>\n",
       "      <td>0.00</td>\n",
       "      <td>...</td>\n",
       "      <td>0.0</td>\n",
       "      <td>0</td>\n",
       "      <td>0.0</td>\n",
       "      <td>0</td>\n",
       "      <td>0</td>\n",
       "      <td>0</td>\n",
       "      <td>0</td>\n",
       "      <td>20.0</td>\n",
       "      <td>1</td>\n",
       "      <td>0</td>\n",
       "    </tr>\n",
       "    <tr>\n",
       "      <th>...</th>\n",
       "      <td>...</td>\n",
       "      <td>...</td>\n",
       "      <td>...</td>\n",
       "      <td>...</td>\n",
       "      <td>...</td>\n",
       "      <td>...</td>\n",
       "      <td>...</td>\n",
       "      <td>...</td>\n",
       "      <td>...</td>\n",
       "      <td>...</td>\n",
       "      <td>...</td>\n",
       "      <td>...</td>\n",
       "      <td>...</td>\n",
       "      <td>...</td>\n",
       "      <td>...</td>\n",
       "      <td>...</td>\n",
       "      <td>...</td>\n",
       "      <td>...</td>\n",
       "      <td>...</td>\n",
       "      <td>...</td>\n",
       "      <td>...</td>\n",
       "    </tr>\n",
       "    <tr>\n",
       "      <th>4014</th>\n",
       "      <td>317LN</td>\n",
       "      <td>0.03</td>\n",
       "      <td>2.00</td>\n",
       "      <td>0.75</td>\n",
       "      <td>0.045</td>\n",
       "      <td>0.03</td>\n",
       "      <td>18.0</td>\n",
       "      <td>3.0</td>\n",
       "      <td>11.00</td>\n",
       "      <td>0.10</td>\n",
       "      <td>...</td>\n",
       "      <td>0.0</td>\n",
       "      <td>0</td>\n",
       "      <td>0.0</td>\n",
       "      <td>0</td>\n",
       "      <td>0</td>\n",
       "      <td>0</td>\n",
       "      <td>30</td>\n",
       "      <td>20.0</td>\n",
       "      <td>2</td>\n",
       "      <td>1</td>\n",
       "    </tr>\n",
       "    <tr>\n",
       "      <th>4015</th>\n",
       "      <td>329</td>\n",
       "      <td>0.08</td>\n",
       "      <td>1.00</td>\n",
       "      <td>0.75</td>\n",
       "      <td>0.040</td>\n",
       "      <td>0.03</td>\n",
       "      <td>23.0</td>\n",
       "      <td>1.0</td>\n",
       "      <td>2.00</td>\n",
       "      <td>0.00</td>\n",
       "      <td>...</td>\n",
       "      <td>0.0</td>\n",
       "      <td>0</td>\n",
       "      <td>0.0</td>\n",
       "      <td>0</td>\n",
       "      <td>0</td>\n",
       "      <td>0</td>\n",
       "      <td>30</td>\n",
       "      <td>20.0</td>\n",
       "      <td>2</td>\n",
       "      <td>1</td>\n",
       "    </tr>\n",
       "    <tr>\n",
       "      <th>4016</th>\n",
       "      <td>S31803</td>\n",
       "      <td>0.03</td>\n",
       "      <td>2.00</td>\n",
       "      <td>1.00</td>\n",
       "      <td>0.030</td>\n",
       "      <td>0.02</td>\n",
       "      <td>21.0</td>\n",
       "      <td>2.5</td>\n",
       "      <td>4.50</td>\n",
       "      <td>0.08</td>\n",
       "      <td>...</td>\n",
       "      <td>0.0</td>\n",
       "      <td>0</td>\n",
       "      <td>0.0</td>\n",
       "      <td>0</td>\n",
       "      <td>0</td>\n",
       "      <td>0</td>\n",
       "      <td>30</td>\n",
       "      <td>20.0</td>\n",
       "      <td>2</td>\n",
       "      <td>1</td>\n",
       "    </tr>\n",
       "    <tr>\n",
       "      <th>4017</th>\n",
       "      <td>316Ti</td>\n",
       "      <td>0.08</td>\n",
       "      <td>2.00</td>\n",
       "      <td>0.75</td>\n",
       "      <td>0.045</td>\n",
       "      <td>0.03</td>\n",
       "      <td>16.0</td>\n",
       "      <td>2.0</td>\n",
       "      <td>10.00</td>\n",
       "      <td>0.10</td>\n",
       "      <td>...</td>\n",
       "      <td>0.0</td>\n",
       "      <td>0</td>\n",
       "      <td>0.0</td>\n",
       "      <td>0</td>\n",
       "      <td>0</td>\n",
       "      <td>0</td>\n",
       "      <td>30</td>\n",
       "      <td>20.0</td>\n",
       "      <td>2</td>\n",
       "      <td>1</td>\n",
       "    </tr>\n",
       "    <tr>\n",
       "      <th>4018</th>\n",
       "      <td>316Cb</td>\n",
       "      <td>0.08</td>\n",
       "      <td>2.00</td>\n",
       "      <td>0.75</td>\n",
       "      <td>0.045</td>\n",
       "      <td>0.03</td>\n",
       "      <td>16.0</td>\n",
       "      <td>2.0</td>\n",
       "      <td>10.00</td>\n",
       "      <td>0.10</td>\n",
       "      <td>...</td>\n",
       "      <td>0.0</td>\n",
       "      <td>0</td>\n",
       "      <td>0.0</td>\n",
       "      <td>0</td>\n",
       "      <td>0</td>\n",
       "      <td>0</td>\n",
       "      <td>30</td>\n",
       "      <td>20.0</td>\n",
       "      <td>2</td>\n",
       "      <td>1</td>\n",
       "    </tr>\n",
       "  </tbody>\n",
       "</table>\n",
       "<p>4019 rows × 31 columns</p>\n",
       "</div>"
      ],
      "text/plain": [
       "     ASTM Material     C    Mn    Si      P     S    Cr   Mo     Ni     N  \\\n",
       "0              403  0.15  1.00  0.50  0.040  0.03  11.5  0.0   0.60  0.00   \n",
       "1              405  0.08  1.00  1.00  0.040  0.03  11.5  0.0   0.60  0.00   \n",
       "2           S41050  0.04  1.00  1.00  0.045  0.03  10.5  0.0   0.60  0.10   \n",
       "3              416  0.15  1.25  1.00  0.060  0.35  12.0  0.0   0.00  0.00   \n",
       "4              410  0.15  1.00  1.00  0.040  0.03  11.5  0.0   0.75  0.00   \n",
       "...            ...   ...   ...   ...    ...   ...   ...  ...    ...   ...   \n",
       "4014         317LN  0.03  2.00  0.75  0.045  0.03  18.0  3.0  11.00  0.10   \n",
       "4015           329  0.08  1.00  0.75  0.040  0.03  23.0  1.0   2.00  0.00   \n",
       "4016        S31803  0.03  2.00  1.00  0.030  0.02  21.0  2.5   4.50  0.08   \n",
       "4017         316Ti  0.08  2.00  0.75  0.045  0.03  16.0  2.0  10.00  0.10   \n",
       "4018         316Cb  0.08  2.00  0.75  0.045  0.03  16.0  2.0  10.00  0.10   \n",
       "\n",
       "      ...  Sulfuric acid (H2SO4)  Nitric acid (HNO3)  Hydrocloric acid (HCl)  \\\n",
       "0     ...                    0.0                   0                     0.0   \n",
       "1     ...                    0.0                   0                     0.0   \n",
       "2     ...                    0.0                   0                     0.0   \n",
       "3     ...                    0.0                   0                     0.0   \n",
       "4     ...                    0.0                   0                     0.0   \n",
       "...   ...                    ...                 ...                     ...   \n",
       "4014  ...                    0.0                   0                     0.0   \n",
       "4015  ...                    0.0                   0                     0.0   \n",
       "4016  ...                    0.0                   0                     0.0   \n",
       "4017  ...                    0.0                   0                     0.0   \n",
       "4018  ...                    0.0                   0                     0.0   \n",
       "\n",
       "      Citric acid(HOC(CH2COOH)2COOH.H2O  KHSO4  KNO3  MgCl2.6H2O  Temperature  \\\n",
       "0                                     0      0     0           0         20.0   \n",
       "1                                     0      0     0           0         20.0   \n",
       "2                                     0      0     0           0         20.0   \n",
       "3                                     0      0     0           0         20.0   \n",
       "4                                     0      0     0           0         20.0   \n",
       "...                                 ...    ...   ...         ...          ...   \n",
       "4014                                  0      0     0          30         20.0   \n",
       "4015                                  0      0     0          30         20.0   \n",
       "4016                                  0      0     0          30         20.0   \n",
       "4017                                  0      0     0          30         20.0   \n",
       "4018                                  0      0     0          30         20.0   \n",
       "\n",
       "      Behavior  Pitting_label  \n",
       "0            1              0  \n",
       "1            1              0  \n",
       "2            1              0  \n",
       "3            1              0  \n",
       "4            1              0  \n",
       "...        ...            ...  \n",
       "4014         2              1  \n",
       "4015         2              1  \n",
       "4016         2              1  \n",
       "4017         2              1  \n",
       "4018         2              1  \n",
       "\n",
       "[4019 rows x 31 columns]"
      ]
     },
     "execution_count": 4,
     "metadata": {},
     "output_type": "execute_result"
    }
   ],
   "source": [
    "#Transform the labels from object (good, poor, Questionable, resistant) to int64 (0,1,2,3)readable by machine \n",
    "def label_encoder(y):\n",
    "    le = LabelEncoder()\n",
    "    Data[y] = le.fit_transform(Data[y])\n",
    "label_list = [\"Behavior\"]\n",
    "for l in label_list:\n",
    "    label_encoder(l)\n",
    "Data"
   ]
  },
  {
   "cell_type": "code",
   "execution_count": 5,
   "metadata": {},
   "outputs": [],
   "source": [
    "#Split the data to the training data (80%) and testing data (20%)\n",
    "\n",
    "X=Data.drop([\"ASTM Material\",\"Behavior\",\"Pitting_label\"],axis=1)\n",
    "y=Data[\"Behavior\"]\n",
    "np.random.seed(0)\n",
    "\n",
    "X_train,X_test,y_train,y_test=train_test_split(X,y,test_size=0.2,shuffle=True)\n"
   ]
  },
  {
   "cell_type": "markdown",
   "metadata": {},
   "source": [
    "## Step 2: Train a decision tree model and accuracy calculation\n",
    "\n",
    "In this section, the DT model is fitted, and the accuracy of the model is calculated. To improve the accuracy of the model hyperparameter tuning is also applied. The performance of the model is also analyzed by confusion matrix."
   ]
  },
  {
   "cell_type": "code",
   "execution_count": 6,
   "metadata": {},
   "outputs": [
    {
     "name": "stdout",
     "output_type": "stream",
     "text": [
      "Decision Tree Accuracy:\n",
      " Train accuracy 100.00%\n",
      " Test accuracy  93.03%\n"
     ]
    }
   ],
   "source": [
    "#Fitting DT model\n",
    "decision_tree_model=sklearn.tree.DecisionTreeClassifier(random_state=0).fit(X_train,y_train)\n",
    "\n",
    "#accuracy calculation\n",
    "train_accuracy=sklearn.metrics.accuracy_score(y_train, decision_tree_model.predict(X_train))*100\n",
    "test_accuracy=sklearn.metrics.accuracy_score(y_test, decision_tree_model.predict(X_test))*100\n",
    "\n",
    "#printing the accuracy\n",
    "print('Decision Tree Accuracy:')\n",
    "print(' Train accuracy %.2f%%'%train_accuracy)\n",
    "print(' Test accuracy  %.2f%%'%test_accuracy)"
   ]
  },
  {
   "cell_type": "code",
   "execution_count": 7,
   "metadata": {},
   "outputs": [
    {
     "data": {
      "text/plain": [
       "GridSearchCV(estimator=DecisionTreeClassifier(), n_jobs=-1,\n",
       "             param_grid={'criterion': ['gini', 'entropy'],\n",
       "                         'max_depth': [1, 2, 3, 4, 5, 6, 7, 8, 9, 10, 11, 12,\n",
       "                                       None]})"
      ]
     },
     "execution_count": 7,
     "metadata": {},
     "output_type": "execute_result"
    }
   ],
   "source": [
    "#hyperparameter search for decision tree\n",
    "\n",
    "param_dist={\"criterion\":[\"gini\",\"entropy\"],\n",
    "           \"max_depth\":[1,2,3,4,5,6,7,8,9,10,11,12,None]}\n",
    "clf=sklearn.tree.DecisionTreeClassifier()\n",
    "grid=GridSearchCV(clf,param_grid=param_dist, n_jobs=-1,)\n",
    "random.seed(0)\n",
    "grid.fit(X_train,y_train)"
   ]
  },
  {
   "cell_type": "code",
   "execution_count": 8,
   "metadata": {},
   "outputs": [
    {
     "data": {
      "text/plain": [
       "DecisionTreeClassifier(criterion='entropy')"
      ]
     },
     "execution_count": 8,
     "metadata": {},
     "output_type": "execute_result"
    }
   ],
   "source": [
    "#finding the best estimator\n",
    "grid.best_estimator_"
   ]
  },
  {
   "cell_type": "code",
   "execution_count": 9,
   "metadata": {},
   "outputs": [
    {
     "data": {
      "text/plain": [
       "0.9321928460342146"
      ]
     },
     "execution_count": 9,
     "metadata": {},
     "output_type": "execute_result"
    }
   ],
   "source": [
    "#finding the best score\n",
    "grid.best_score_"
   ]
  },
  {
   "cell_type": "code",
   "execution_count": 10,
   "metadata": {},
   "outputs": [
    {
     "data": {
      "text/plain": [
       "{'criterion': 'entropy', 'max_depth': None}"
      ]
     },
     "execution_count": 10,
     "metadata": {},
     "output_type": "execute_result"
    }
   ],
   "source": [
    "#finding the best parameter\n",
    "grid.best_params_"
   ]
  },
  {
   "cell_type": "code",
   "execution_count": 11,
   "metadata": {},
   "outputs": [
    {
     "name": "stdout",
     "output_type": "stream",
     "text": [
      "Decision Tree Accuracy:\n",
      " Train accuracy 100.00%\n",
      " Test accuracy  93.53%\n"
     ]
    }
   ],
   "source": [
    "#Re-calculating the accuracies for DT model after hyperparameter search\n",
    "decision_tree_model=sklearn.tree.DecisionTreeClassifier(random_state=0, max_depth=None, criterion=\"entropy\").fit(X_train,y_train)\n",
    "\n",
    "#accuracy calculation\n",
    "train_accuracy=sklearn.metrics.accuracy_score(y_train, decision_tree_model.predict(X_train))*100\n",
    "test_accuracy=sklearn.metrics.accuracy_score(y_test, decision_tree_model.predict(X_test))*100\n",
    "\n",
    "#printing the accuracy\n",
    "print('Decision Tree Accuracy:')\n",
    "print(' Train accuracy %.2f%%'%train_accuracy)\n",
    "print(' Test accuracy  %.2f%%'%test_accuracy)"
   ]
  },
  {
   "cell_type": "code",
   "execution_count": 12,
   "metadata": {},
   "outputs": [
    {
     "name": "stderr",
     "output_type": "stream",
     "text": [
      "/opt/anaconda3/lib/python3.9/site-packages/sklearn/utils/deprecation.py:87: FutureWarning: Function plot_confusion_matrix is deprecated; Function `plot_confusion_matrix` is deprecated in 1.0 and will be removed in 1.2. Use one of the class methods: ConfusionMatrixDisplay.from_predictions or ConfusionMatrixDisplay.from_estimator.\n",
      "  warnings.warn(msg, category=FutureWarning)\n"
     ]
    },
    {
     "data": {
      "image/png": "[encoded data removed]",
      "text/plain": [
       "<Figure size 432x288 with 2 Axes>"
      ]
     },
     "metadata": {
      "needs_background": "light"
     },
     "output_type": "display_data"
    }
   ],
   "source": [
    "#Confusion matrix for DT\n",
    "\n",
    "plt.rcParams[\"font.family\"] = \"Times New Roman\"\n",
    "plt.rcParams.update({'font.size': 15})\n",
    "plot_confusion_matrix(decision_tree_model, X_test, y_test, cmap='Blues')  \n",
    "plt.show()"
   ]
  },
  {
   "cell_type": "markdown",
   "metadata": {},
   "source": [
    "## Step 3: Train SVM, accuracy calculation, and hyperparameter search\n",
    "\n",
    "In this section, the SVM model with the defult hyperparameter values is fitted, and the accuracy of the model is calculated. Based on the initial accuracies and the results of the confusion matrix, we decided to tune the hyperparameters by hyperparameter search.The performance of the model is also analyzed by confusion matrix before and after hyperparameter tuning. "
   ]
  },
  {
   "cell_type": "code",
   "execution_count": 13,
   "metadata": {},
   "outputs": [
    {
     "name": "stdout",
     "output_type": "stream",
     "text": [
      "SVM model accuracy:\n",
      " Train accuracy 67.28% \n",
      " Test accuracy  66.54% \n"
     ]
    }
   ],
   "source": [
    "#Fitting SVM model\n",
    "svm_model=sklearn.svm.SVC(kernel='rbf').fit(X_train,y_train)\n",
    "\n",
    "#Accuracy calculation\n",
    "train_ac=sklearn.metrics.accuracy_score(y_train, svm_model.predict(X_train)) \n",
    "test_ac=sklearn.metrics.accuracy_score(y_test, svm_model.predict(X_test)) \n",
    "\n",
    "print('SVM model accuracy:')\n",
    "print(' Train accuracy %.2f%% '%(train_ac*100)) \n",
    "print(' Test accuracy  %.2f%% '%(test_ac*100))"
   ]
  },
  {
   "cell_type": "code",
   "execution_count": 14,
   "metadata": {},
   "outputs": [
    {
     "name": "stderr",
     "output_type": "stream",
     "text": [
      "/opt/anaconda3/lib/python3.9/site-packages/sklearn/utils/deprecation.py:87: FutureWarning: Function plot_confusion_matrix is deprecated; Function `plot_confusion_matrix` is deprecated in 1.0 and will be removed in 1.2. Use one of the class methods: ConfusionMatrixDisplay.from_predictions or ConfusionMatrixDisplay.from_estimator.\n",
      "  warnings.warn(msg, category=FutureWarning)\n"
     ]
    },
    {
     "data": {
      "image/png": "[encoded data removed]",
      "text/plain": [
       "<Figure size 432x288 with 2 Axes>"
      ]
     },
     "metadata": {
      "needs_background": "light"
     },
     "output_type": "display_data"
    }
   ],
   "source": [
    "#Confusion matrix for SVM before hypeparameter search\n",
    "\n",
    "plot_confusion_matrix(svm_model, X_test, y_test, cmap='Blues')  \n",
    "plt.show()"
   ]
  },
  {
   "cell_type": "code",
   "execution_count": 15,
   "metadata": {},
   "outputs": [
    {
     "name": "stdout",
     "output_type": "stream",
     "text": [
      "Fitting 3 folds for each of 20 candidates, totalling 60 fits\n"
     ]
    },
    {
     "data": {
      "text/plain": [
       "SVC(C=1.386986124535732, gamma=0.019391724470856554)"
      ]
     },
     "execution_count": 15,
     "metadata": {},
     "output_type": "execute_result"
    }
   ],
   "source": [
    "#Draw samples from reciprocal distribution for searching hyperparameters\n",
    "\n",
    "C=scipy.stats.reciprocal(1, 100)\n",
    "gamma=scipy.stats.reciprocal(0.01, 20)\n",
    "param_distributions={'C':C,'gamma':gamma}\n",
    "random_search=sklearn.model_selection.RandomizedSearchCV(svm_model, param_distributions,n_iter=20, cv=3, verbose=1, random_state=0).fit(X_train,y_train)\n",
    "random_search.best_estimator_"
   ]
  },
  {
   "cell_type": "code",
   "execution_count": 16,
   "metadata": {},
   "outputs": [
    {
     "name": "stdout",
     "output_type": "stream",
     "text": [
      "Random search:\n",
      " Train accuracy: 90.76% \n",
      " Test accuracy:  85.57% \n"
     ]
    }
   ],
   "source": [
    "#Accuracy calculation baesd on the hyperparameter search results (C,gamma) \n",
    "\n",
    "rs_train_ac=sklearn.metrics.accuracy_score(y_train, random_search.predict(X_train)) \n",
    "rs_test_ac=sklearn.metrics.accuracy_score(y_test, random_search.predict(X_test)) \n",
    "\n",
    "print('Random search:')\n",
    "print(' Train accuracy: %.2f%% '%(rs_train_ac*100)) \n",
    "print(' Test accuracy:  %.2f%% '%(rs_test_ac*100))"
   ]
  },
  {
   "cell_type": "code",
   "execution_count": 17,
   "metadata": {},
   "outputs": [
    {
     "name": "stderr",
     "output_type": "stream",
     "text": [
      "/opt/anaconda3/lib/python3.9/site-packages/sklearn/utils/deprecation.py:87: FutureWarning: Function plot_confusion_matrix is deprecated; Function `plot_confusion_matrix` is deprecated in 1.0 and will be removed in 1.2. Use one of the class methods: ConfusionMatrixDisplay.from_predictions or ConfusionMatrixDisplay.from_estimator.\n",
      "  warnings.warn(msg, category=FutureWarning)\n"
     ]
    },
    {
     "data": {
      "image/png": "[encoded data removed]",
      "text/plain": [
       "<Figure size 432x288 with 2 Axes>"
      ]
     },
     "metadata": {
      "needs_background": "light"
     },
     "output_type": "display_data"
    }
   ],
   "source": [
    "#Confusion matrix after hyperparameter tuning for SVM\n",
    "\n",
    "plot_confusion_matrix(random_search, X_test, y_test, cmap='Blues')  \n",
    "plt.show()"
   ]
  },
  {
   "cell_type": "markdown",
   "metadata": {},
   "source": [
    "## Step 4: Random forest classification\n",
    "\n",
    "Random Forest Classifier with random_state=0 is fitted to our training data. Also, a hyperparameter search between 1 to 50 is applied to find the best n_estimators for this algorithm. The confusion matrix is also used to analyze the performance of the model."
   ]
  },
  {
   "cell_type": "code",
   "execution_count": 18,
   "metadata": {},
   "outputs": [
    {
     "name": "stdout",
     "output_type": "stream",
     "text": [
      "Random Forest\n",
      " Train accuracy: 100.00% \n",
      " Test accuracy:  86.69% \n"
     ]
    }
   ],
   "source": [
    "random_forest=sklearn.ensemble.RandomForestClassifier(random_state=0).fit(X_train,y_train)\n",
    "accuracy_train=sklearn.metrics.accuracy_score(y_train, random_forest.predict(X_train))\n",
    "accuracy_test=sklearn.metrics.accuracy_score(y_test, random_forest.predict(X_test))\n",
    "print('Random Forest')\n",
    "print(' Train accuracy: %.2f%% '%(accuracy_train*100)) \n",
    "print(' Test accuracy:  %.2f%% '%(accuracy_test*100))"
   ]
  },
  {
   "cell_type": "code",
   "execution_count": 19,
   "metadata": {},
   "outputs": [
    {
     "name": "stdout",
     "output_type": "stream",
     "text": [
      "[0.77114428 0.77238806 0.83333333 0.84452736 0.84328358 0.84079602\n",
      " 0.83457711 0.85074627 0.85323383 0.84577114 0.85323383 0.85572139\n",
      " 0.8619403  0.85323383 0.85696517 0.85820896 0.85447761 0.85447761\n",
      " 0.85199005 0.85323383 0.85447761 0.85572139 0.85572139 0.8619403\n",
      " 0.85945274 0.8619403  0.86069652 0.86567164 0.86442786 0.8681592\n",
      " 0.86567164 0.86318408 0.86069652 0.85945274 0.85945274 0.85945274\n",
      " 0.8619403  0.85945274 0.86442786 0.8681592  0.8681592  0.8681592\n",
      " 0.8681592  0.86318408 0.86567164 0.8619403  0.86318408 0.86442786\n",
      " 0.86442786 0.86442786]\n",
      "(array([29, 39, 40, 41, 42]),)\n"
     ]
    }
   ],
   "source": [
    "accuracies_test=np.array([])\n",
    "\n",
    "# Finding the index of best test accuracies for n_estimators between 1 to 50\n",
    "\n",
    "for i in range(1,51):\n",
    "    random_forest=sklearn.ensemble.RandomForestClassifier(random_state=0, n_estimators=i).fit(X_train,y_train)\n",
    "    accuracy_test=sklearn.metrics.accuracy_score(y_test, random_forest.predict(X_test))\n",
    "    accuracies_test=np.hstack((accuracies_test,accuracy_test))\n",
    "index_test=np.where(accuracies_test==np.amax(accuracies_test))\n",
    "print(accuracies_test) # print test accuracies of models with n_estimators between 1 to 50\n",
    "print(index_test)      # print the index of the highest test accuracies"
   ]
  },
  {
   "cell_type": "code",
   "execution_count": 20,
   "metadata": {},
   "outputs": [
    {
     "name": "stdout",
     "output_type": "stream",
     "text": [
      "Random Forest\n",
      " Train accuracy: 100.00% \n",
      " Test accuracy:  86.82% \n"
     ]
    }
   ],
   "source": [
    "# Fitting random forest model with n_estimators=42 according to one of the indexes obtained in the previous cell\n",
    "\n",
    "random_forest=sklearn.ensemble.RandomForestClassifier(random_state=0, n_estimators=42).fit(X_train,y_train)\n",
    "accuracy_train=sklearn.metrics.accuracy_score(y_train, random_forest.predict(X_train))\n",
    "accuracy_test=sklearn.metrics.accuracy_score(y_test, random_forest.predict(X_test))\n",
    "print('Random Forest')\n",
    "print(' Train accuracy: %.2f%% '%(accuracy_train*100)) \n",
    "print(' Test accuracy:  %.2f%% '%(accuracy_test*100))"
   ]
  },
  {
   "cell_type": "code",
   "execution_count": 21,
   "metadata": {},
   "outputs": [
    {
     "name": "stderr",
     "output_type": "stream",
     "text": [
      "/opt/anaconda3/lib/python3.9/site-packages/sklearn/utils/deprecation.py:87: FutureWarning: Function plot_confusion_matrix is deprecated; Function `plot_confusion_matrix` is deprecated in 1.0 and will be removed in 1.2. Use one of the class methods: ConfusionMatrixDisplay.from_predictions or ConfusionMatrixDisplay.from_estimator.\n",
      "  warnings.warn(msg, category=FutureWarning)\n"
     ]
    },
    {
     "data": {
      "image/png": "[encoded data removed]",
      "text/plain": [
       "<Figure size 432x288 with 2 Axes>"
      ]
     },
     "metadata": {
      "needs_background": "light"
     },
     "output_type": "display_data"
    }
   ],
   "source": [
    "#Confusion matrix for RF model\n",
    "plot_confusion_matrix(random_forest, X_test, y_test, cmap='Blues')  \n",
    "plt.show()"
   ]
  },
  {
   "cell_type": "markdown",
   "metadata": {},
   "source": [
    "## Step 5: Bagging classifier\n",
    "\n",
    "Bagging classifier is fitted to the training data, and the accuracy of the model is increased by hyperparameter tuning."
   ]
  },
  {
   "cell_type": "code",
   "execution_count": 22,
   "metadata": {},
   "outputs": [
    {
     "name": "stdout",
     "output_type": "stream",
     "text": [
      "Bagging classifier Accuracy:\n",
      " Train accuracy 99.69%\n",
      " Test accuracy  91.92%\n"
     ]
    }
   ],
   "source": [
    "dt = DecisionTreeClassifier()\n",
    "\n",
    "# Create a BaggingClassifier object with the DecisionTreeClassifier as the base estimator\n",
    "bag = BaggingClassifier(base_estimator=dt, random_state=0)\n",
    "\n",
    "# Fit the BaggingClassifier to the training data\n",
    "bagging_classifier=bag.fit(X_train, y_train)\n",
    "\n",
    "#Predict the target variable for the test data\n",
    "train_accuracy=sklearn.metrics.accuracy_score(y_train, bagging_classifier.predict(X_train))*100\n",
    "test_accuracy=sklearn.metrics.accuracy_score(y_test, bagging_classifier.predict(X_test))*100\n",
    "\n",
    "#printing the accuracy\n",
    "print('Bagging classifier Accuracy:')\n",
    "print(' Train accuracy %.2f%%'%train_accuracy)\n",
    "print(' Test accuracy  %.2f%%'%test_accuracy)"
   ]
  },
  {
   "cell_type": "code",
   "execution_count": 23,
   "metadata": {},
   "outputs": [
    {
     "name": "stdout",
     "output_type": "stream",
     "text": [
      "Best params: {'n_estimators': 80}\n"
     ]
    }
   ],
   "source": [
    "#Use GridSearchCV to search over the hyperparameters\n",
    "params = {\n",
    "    'n_estimators': [10,20,30,40,50,60,80],\n",
    "}\n",
    "grid_search = GridSearchCV(bag, params, cv=None, scoring='accuracy')\n",
    "grid_search.fit(X, y)\n",
    "\n",
    "# Print the best hyperparameters and score\n",
    "print(f\"Best params: {grid_search.best_params_}\")"
   ]
  },
  {
   "cell_type": "code",
   "execution_count": 24,
   "metadata": {},
   "outputs": [
    {
     "name": "stdout",
     "output_type": "stream",
     "text": [
      "Bagging classifier Accuracy:\n",
      " Train accuracy 100.00%\n",
      " Test accuracy  94.40%\n"
     ]
    }
   ],
   "source": [
    "# Fitting bagging classifier after GridSearchCV\n",
    "\n",
    "bagging = BaggingClassifier(base_estimator=dt, n_estimators=80, random_state=0)\n",
    "\n",
    "# Fit the BaggingClassifier to the training data\n",
    "bagging_classifier_tuned=bagging.fit(X_train, y_train)\n",
    "\n",
    "#Predict the target variable for the test data\n",
    "train_accuracy=sklearn.metrics.accuracy_score(y_train, bagging_classifier_tuned.predict(X_train))*100\n",
    "test_accuracy=sklearn.metrics.accuracy_score(y_test, bagging_classifier_tuned.predict(X_test))*100\n",
    "\n",
    "#printing the accuracy\n",
    "print('Bagging classifier Accuracy:')\n",
    "print(' Train accuracy %.2f%%'%train_accuracy)\n",
    "print(' Test accuracy  %.2f%%'%test_accuracy)"
   ]
  },
  {
   "cell_type": "code",
   "execution_count": 25,
   "metadata": {},
   "outputs": [
    {
     "name": "stderr",
     "output_type": "stream",
     "text": [
      "/opt/anaconda3/lib/python3.9/site-packages/sklearn/utils/deprecation.py:87: FutureWarning: Function plot_confusion_matrix is deprecated; Function `plot_confusion_matrix` is deprecated in 1.0 and will be removed in 1.2. Use one of the class methods: ConfusionMatrixDisplay.from_predictions or ConfusionMatrixDisplay.from_estimator.\n",
      "  warnings.warn(msg, category=FutureWarning)\n"
     ]
    },
    {
     "data": {
      "image/png": "[encoded data removed]",
      "text/plain": [
       "<Figure size 432x288 with 2 Axes>"
      ]
     },
     "metadata": {
      "needs_background": "light"
     },
     "output_type": "display_data"
    }
   ],
   "source": [
    "plt.rcParams[\"font.family\"] = \"Times New Roman\"\n",
    "plt.rcParams.update({'font.size': 15})\n",
    "plot_confusion_matrix(bagging_classifier_tuned, X_test, y_test, cmap='Blues')  \n",
    "plt.show()"
   ]
  }
 ],
 "metadata": {
  "kernelspec": {
   "display_name": "Python 3 (ipykernel)",
   "language": "python",
   "name": "python3"
  },
  "language_info": {
   "codemirror_mode": {
    "name": "ipython",
    "version": 3
   },
   "file_extension": ".py",
   "mimetype": "text/x-python",
   "name": "python",
   "nbconvert_exporter": "python",
   "pygments_lexer": "ipython3",
   "version": "3.9.12"
  }
 },
 "nbformat": 4,
 "nbformat_minor": 4
}
