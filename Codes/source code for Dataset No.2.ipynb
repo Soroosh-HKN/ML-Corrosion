{
 "cells": [
  {
   "cell_type": "markdown",
   "metadata": {},
   "source": [
    "# Application of Machine Learning for the Classification of Corrosion Behavior in Different Environments for Material Selection of Stainless Steels (for Dataset No. 2)\n",
    "\n",
    "In order to classify the corrosion behavior of stainless steel alloys in the lactic acid solution, following steps are considered according to the attached paper.\n",
    "\n",
    "Firstly, the necessary libraries are imported.\n"
   ]
  },
  {
   "cell_type": "code",
   "execution_count": 1,
   "metadata": {},
   "outputs": [],
   "source": [
    "import numpy as np\n",
    "import matplotlib\n",
    "import matplotlib.pyplot as plt\n",
    "import sklearn\n",
    "import sklearn.tree        \n",
    "import sklearn.metrics     \n",
    "from itertools import cycle\n",
    "from sklearn.model_selection import train_test_split\n",
    "from sklearn.preprocessing import label_binarize\n",
    "from sklearn.multiclass import OneVsRestClassifier\n",
    "from sklearn import svm, datasets\n",
    "import scipy\n",
    "import scipy.stats\n",
    "from sklearn.metrics import roc_curve, auc, plot_confusion_matrix, roc_auc_score, confusion_matrix, ConfusionMatrixDisplay\n",
    "from scipy import interp\n",
    "import sklearn.ensemble\n",
    "import sklearn.cluster\n",
    "import pandas as pd\n",
    "from sklearn.pipeline import make_pipeline\n",
    "from sklearn.preprocessing import LabelEncoder\n",
    "from sklearn.datasets import load_iris\n",
    "from sklearn.feature_selection import SelectKBest\n",
    "from sklearn.feature_selection import f_classif\n",
    "from sklearn.model_selection import GridSearchCV\n",
    "import random\n",
    "from sklearn.neural_network import MLPClassifier\n",
    "from sklearn.datasets import make_regression\n",
    "from sklearn.tree import DecisionTreeClassifier\n",
    "from sklearn.ensemble import BaggingClassifier\n",
    "from sklearn.metrics import accuracy_score\n",
    "from sklearn.preprocessing import StandardScaler"
   ]
  },
  {
   "cell_type": "markdown",
   "metadata": {},
   "source": [
    "## Step 1: Loading the Data\n",
    "\n",
    "After preprocessing steps explained elaborately in the paper (Section 2.1), the data will be loaded by running the below cell:"
   ]
  },
  {
   "cell_type": "code",
   "execution_count": 2,
   "metadata": {},
   "outputs": [
    {
     "name": "stdout",
     "output_type": "stream",
     "text": [
      "  ASTM Material     C    Mn   Si      P     S    Cr   Mo    Ni    N  ...  Nb   \\\n",
      "0           403  0.15  1.00  0.5  0.040  0.03  11.5  0.0  0.60  0.0  ...  0.0   \n",
      "1           405  0.08  1.00  1.0  0.040  0.03  11.5  0.0  0.60  0.0  ...  0.0   \n",
      "2        S41050  0.04  1.00  1.0  0.045  0.03  10.5  0.0  0.60  0.1  ...  0.0   \n",
      "3           416  0.15  1.25  1.0  0.060  0.35  12.0  0.0  0.00  0.0  ...  0.0   \n",
      "4           410  0.15  1.00  1.0  0.040  0.03  11.5  0.0  0.75  0.0  ...  0.0   \n",
      "\n",
      "    Al  Fe balance (%)  Temperature  Behavior Pitting_label  [H+] (mol/dm3)  \\\n",
      "0  0.0          86.180           20      Poor             0          2.6504   \n",
      "1  0.1          85.650           20      Poor             0          2.6504   \n",
      "2  0.0          86.685           20      Poor             0          2.6504   \n",
      "3  0.0          85.190           20      Poor             0          2.6504   \n",
      "4  0.0          85.530           20      Poor             0          2.6504   \n",
      "\n",
      "   [OH-] (mol/dm3)  [Cl-] (mol/dm3)  [S2-] (mol/dm3)  \n",
      "0              0.0              0.0              0.0  \n",
      "1              0.0              0.0              0.0  \n",
      "2              0.0              0.0              0.0  \n",
      "3              0.0              0.0              0.0  \n",
      "4              0.0              0.0              0.0  \n",
      "\n",
      "[5 rows x 21 columns]\n"
     ]
    }
   ],
   "source": [
    "#Loading the input data\n",
    "\n",
    "Data=pd.read_csv('Dataset No.2.csv')\n",
    "print(Data.head())"
   ]
  },
  {
   "cell_type": "code",
   "execution_count": 3,
   "metadata": {},
   "outputs": [
    {
     "data": {
      "text/html": [
       "<div>\n",
       "<style scoped>\n",
       "    .dataframe tbody tr th:only-of-type {\n",
       "        vertical-align: middle;\n",
       "    }\n",
       "\n",
       "    .dataframe tbody tr th {\n",
       "        vertical-align: top;\n",
       "    }\n",
       "\n",
       "    .dataframe thead th {\n",
       "        text-align: right;\n",
       "    }\n",
       "</style>\n",
       "<table border=\"1\" class=\"dataframe\">\n",
       "  <thead>\n",
       "    <tr style=\"text-align: right;\">\n",
       "      <th></th>\n",
       "      <th>ASTM Material</th>\n",
       "      <th>C</th>\n",
       "      <th>Mn</th>\n",
       "      <th>Si</th>\n",
       "      <th>P</th>\n",
       "      <th>S</th>\n",
       "      <th>Cr</th>\n",
       "      <th>Mo</th>\n",
       "      <th>Ni</th>\n",
       "      <th>N</th>\n",
       "      <th>Ti</th>\n",
       "      <th>Nb</th>\n",
       "      <th>Al</th>\n",
       "      <th>Fe balance (%)</th>\n",
       "      <th>Temperature</th>\n",
       "      <th>Pitting_label</th>\n",
       "      <th>[H+] (mol/dm3)</th>\n",
       "      <th>[OH-] (mol/dm3)</th>\n",
       "      <th>[Cl-] (mol/dm3)</th>\n",
       "      <th>[S2-] (mol/dm3)</th>\n",
       "    </tr>\n",
       "    <tr>\n",
       "      <th>Behavior</th>\n",
       "      <th></th>\n",
       "      <th></th>\n",
       "      <th></th>\n",
       "      <th></th>\n",
       "      <th></th>\n",
       "      <th></th>\n",
       "      <th></th>\n",
       "      <th></th>\n",
       "      <th></th>\n",
       "      <th></th>\n",
       "      <th></th>\n",
       "      <th></th>\n",
       "      <th></th>\n",
       "      <th></th>\n",
       "      <th></th>\n",
       "      <th></th>\n",
       "      <th></th>\n",
       "      <th></th>\n",
       "      <th></th>\n",
       "      <th></th>\n",
       "    </tr>\n",
       "  </thead>\n",
       "  <tbody>\n",
       "    <tr>\n",
       "      <th>Good</th>\n",
       "      <td>311</td>\n",
       "      <td>311</td>\n",
       "      <td>311</td>\n",
       "      <td>311</td>\n",
       "      <td>311</td>\n",
       "      <td>311</td>\n",
       "      <td>311</td>\n",
       "      <td>311</td>\n",
       "      <td>311</td>\n",
       "      <td>311</td>\n",
       "      <td>311</td>\n",
       "      <td>311</td>\n",
       "      <td>311</td>\n",
       "      <td>311</td>\n",
       "      <td>311</td>\n",
       "      <td>311</td>\n",
       "      <td>311</td>\n",
       "      <td>311</td>\n",
       "      <td>311</td>\n",
       "      <td>311</td>\n",
       "    </tr>\n",
       "    <tr>\n",
       "      <th>Poor</th>\n",
       "      <td>226</td>\n",
       "      <td>226</td>\n",
       "      <td>226</td>\n",
       "      <td>226</td>\n",
       "      <td>226</td>\n",
       "      <td>226</td>\n",
       "      <td>226</td>\n",
       "      <td>226</td>\n",
       "      <td>226</td>\n",
       "      <td>226</td>\n",
       "      <td>226</td>\n",
       "      <td>226</td>\n",
       "      <td>226</td>\n",
       "      <td>226</td>\n",
       "      <td>226</td>\n",
       "      <td>226</td>\n",
       "      <td>226</td>\n",
       "      <td>226</td>\n",
       "      <td>226</td>\n",
       "      <td>226</td>\n",
       "    </tr>\n",
       "    <tr>\n",
       "      <th>Resistant</th>\n",
       "      <td>839</td>\n",
       "      <td>839</td>\n",
       "      <td>839</td>\n",
       "      <td>839</td>\n",
       "      <td>839</td>\n",
       "      <td>839</td>\n",
       "      <td>839</td>\n",
       "      <td>839</td>\n",
       "      <td>839</td>\n",
       "      <td>839</td>\n",
       "      <td>839</td>\n",
       "      <td>839</td>\n",
       "      <td>839</td>\n",
       "      <td>839</td>\n",
       "      <td>839</td>\n",
       "      <td>839</td>\n",
       "      <td>839</td>\n",
       "      <td>839</td>\n",
       "      <td>839</td>\n",
       "      <td>839</td>\n",
       "    </tr>\n",
       "    <tr>\n",
       "      <th>Severe</th>\n",
       "      <td>168</td>\n",
       "      <td>168</td>\n",
       "      <td>168</td>\n",
       "      <td>168</td>\n",
       "      <td>168</td>\n",
       "      <td>168</td>\n",
       "      <td>168</td>\n",
       "      <td>168</td>\n",
       "      <td>168</td>\n",
       "      <td>168</td>\n",
       "      <td>168</td>\n",
       "      <td>168</td>\n",
       "      <td>168</td>\n",
       "      <td>168</td>\n",
       "      <td>168</td>\n",
       "      <td>168</td>\n",
       "      <td>168</td>\n",
       "      <td>168</td>\n",
       "      <td>168</td>\n",
       "      <td>168</td>\n",
       "    </tr>\n",
       "  </tbody>\n",
       "</table>\n",
       "</div>"
      ],
      "text/plain": [
       "           ASTM Material    C   Mn   Si    P    S   Cr   Mo   Ni    N   Ti  \\\n",
       "Behavior                                                                     \n",
       "Good                 311  311  311  311  311  311  311  311  311  311  311   \n",
       "Poor                 226  226  226  226  226  226  226  226  226  226  226   \n",
       "Resistant            839  839  839  839  839  839  839  839  839  839  839   \n",
       "Severe               168  168  168  168  168  168  168  168  168  168  168   \n",
       "\n",
       "           Nb    Al  Fe balance (%)  Temperature  Pitting_label  \\\n",
       "Behavior                                                          \n",
       "Good       311  311             311          311            311   \n",
       "Poor       226  226             226          226            226   \n",
       "Resistant  839  839             839          839            839   \n",
       "Severe     168  168             168          168            168   \n",
       "\n",
       "           [H+] (mol/dm3)  [OH-] (mol/dm3)  [Cl-] (mol/dm3)  [S2-] (mol/dm3)  \n",
       "Behavior                                                                      \n",
       "Good                  311              311              311              311  \n",
       "Poor                  226              226              226              226  \n",
       "Resistant             839              839              839              839  \n",
       "Severe                168              168              168              168  "
      ]
     },
     "execution_count": 3,
     "metadata": {},
     "output_type": "execute_result"
    }
   ],
   "source": [
    "#Counting the number of classes our target variable have\n",
    "Data.groupby('Behavior').count()"
   ]
  },
  {
   "cell_type": "code",
   "execution_count": 4,
   "metadata": {},
   "outputs": [
    {
     "data": {
      "text/html": [
       "<div>\n",
       "<style scoped>\n",
       "    .dataframe tbody tr th:only-of-type {\n",
       "        vertical-align: middle;\n",
       "    }\n",
       "\n",
       "    .dataframe tbody tr th {\n",
       "        vertical-align: top;\n",
       "    }\n",
       "\n",
       "    .dataframe thead th {\n",
       "        text-align: right;\n",
       "    }\n",
       "</style>\n",
       "<table border=\"1\" class=\"dataframe\">\n",
       "  <thead>\n",
       "    <tr style=\"text-align: right;\">\n",
       "      <th></th>\n",
       "      <th>ASTM Material</th>\n",
       "      <th>C</th>\n",
       "      <th>Mn</th>\n",
       "      <th>Si</th>\n",
       "      <th>P</th>\n",
       "      <th>S</th>\n",
       "      <th>Cr</th>\n",
       "      <th>Mo</th>\n",
       "      <th>Ni</th>\n",
       "      <th>N</th>\n",
       "      <th>...</th>\n",
       "      <th>Nb</th>\n",
       "      <th>Al</th>\n",
       "      <th>Fe balance (%)</th>\n",
       "      <th>Temperature</th>\n",
       "      <th>Behavior</th>\n",
       "      <th>Pitting_label</th>\n",
       "      <th>[H+] (mol/dm3)</th>\n",
       "      <th>[OH-] (mol/dm3)</th>\n",
       "      <th>[Cl-] (mol/dm3)</th>\n",
       "      <th>[S2-] (mol/dm3)</th>\n",
       "    </tr>\n",
       "  </thead>\n",
       "  <tbody>\n",
       "    <tr>\n",
       "      <th>0</th>\n",
       "      <td>403</td>\n",
       "      <td>0.15</td>\n",
       "      <td>1.00</td>\n",
       "      <td>0.50</td>\n",
       "      <td>0.040</td>\n",
       "      <td>0.03</td>\n",
       "      <td>11.5</td>\n",
       "      <td>0.0</td>\n",
       "      <td>0.60</td>\n",
       "      <td>0.00</td>\n",
       "      <td>...</td>\n",
       "      <td>0.0</td>\n",
       "      <td>0.0</td>\n",
       "      <td>86.180</td>\n",
       "      <td>20</td>\n",
       "      <td>1</td>\n",
       "      <td>0</td>\n",
       "      <td>2.6504</td>\n",
       "      <td>0.0</td>\n",
       "      <td>0.00</td>\n",
       "      <td>0.0</td>\n",
       "    </tr>\n",
       "    <tr>\n",
       "      <th>1</th>\n",
       "      <td>405</td>\n",
       "      <td>0.08</td>\n",
       "      <td>1.00</td>\n",
       "      <td>1.00</td>\n",
       "      <td>0.040</td>\n",
       "      <td>0.03</td>\n",
       "      <td>11.5</td>\n",
       "      <td>0.0</td>\n",
       "      <td>0.60</td>\n",
       "      <td>0.00</td>\n",
       "      <td>...</td>\n",
       "      <td>0.0</td>\n",
       "      <td>0.1</td>\n",
       "      <td>85.650</td>\n",
       "      <td>20</td>\n",
       "      <td>1</td>\n",
       "      <td>0</td>\n",
       "      <td>2.6504</td>\n",
       "      <td>0.0</td>\n",
       "      <td>0.00</td>\n",
       "      <td>0.0</td>\n",
       "    </tr>\n",
       "    <tr>\n",
       "      <th>2</th>\n",
       "      <td>S41050</td>\n",
       "      <td>0.04</td>\n",
       "      <td>1.00</td>\n",
       "      <td>1.00</td>\n",
       "      <td>0.045</td>\n",
       "      <td>0.03</td>\n",
       "      <td>10.5</td>\n",
       "      <td>0.0</td>\n",
       "      <td>0.60</td>\n",
       "      <td>0.10</td>\n",
       "      <td>...</td>\n",
       "      <td>0.0</td>\n",
       "      <td>0.0</td>\n",
       "      <td>86.685</td>\n",
       "      <td>20</td>\n",
       "      <td>1</td>\n",
       "      <td>0</td>\n",
       "      <td>2.6504</td>\n",
       "      <td>0.0</td>\n",
       "      <td>0.00</td>\n",
       "      <td>0.0</td>\n",
       "    </tr>\n",
       "    <tr>\n",
       "      <th>3</th>\n",
       "      <td>416</td>\n",
       "      <td>0.15</td>\n",
       "      <td>1.25</td>\n",
       "      <td>1.00</td>\n",
       "      <td>0.060</td>\n",
       "      <td>0.35</td>\n",
       "      <td>12.0</td>\n",
       "      <td>0.0</td>\n",
       "      <td>0.00</td>\n",
       "      <td>0.00</td>\n",
       "      <td>...</td>\n",
       "      <td>0.0</td>\n",
       "      <td>0.0</td>\n",
       "      <td>85.190</td>\n",
       "      <td>20</td>\n",
       "      <td>1</td>\n",
       "      <td>0</td>\n",
       "      <td>2.6504</td>\n",
       "      <td>0.0</td>\n",
       "      <td>0.00</td>\n",
       "      <td>0.0</td>\n",
       "    </tr>\n",
       "    <tr>\n",
       "      <th>4</th>\n",
       "      <td>410</td>\n",
       "      <td>0.15</td>\n",
       "      <td>1.00</td>\n",
       "      <td>1.00</td>\n",
       "      <td>0.040</td>\n",
       "      <td>0.03</td>\n",
       "      <td>11.5</td>\n",
       "      <td>0.0</td>\n",
       "      <td>0.75</td>\n",
       "      <td>0.00</td>\n",
       "      <td>...</td>\n",
       "      <td>0.0</td>\n",
       "      <td>0.0</td>\n",
       "      <td>85.530</td>\n",
       "      <td>20</td>\n",
       "      <td>1</td>\n",
       "      <td>0</td>\n",
       "      <td>2.6504</td>\n",
       "      <td>0.0</td>\n",
       "      <td>0.00</td>\n",
       "      <td>0.0</td>\n",
       "    </tr>\n",
       "    <tr>\n",
       "      <th>...</th>\n",
       "      <td>...</td>\n",
       "      <td>...</td>\n",
       "      <td>...</td>\n",
       "      <td>...</td>\n",
       "      <td>...</td>\n",
       "      <td>...</td>\n",
       "      <td>...</td>\n",
       "      <td>...</td>\n",
       "      <td>...</td>\n",
       "      <td>...</td>\n",
       "      <td>...</td>\n",
       "      <td>...</td>\n",
       "      <td>...</td>\n",
       "      <td>...</td>\n",
       "      <td>...</td>\n",
       "      <td>...</td>\n",
       "      <td>...</td>\n",
       "      <td>...</td>\n",
       "      <td>...</td>\n",
       "      <td>...</td>\n",
       "      <td>...</td>\n",
       "    </tr>\n",
       "    <tr>\n",
       "      <th>1539</th>\n",
       "      <td>317LN</td>\n",
       "      <td>0.03</td>\n",
       "      <td>2.00</td>\n",
       "      <td>0.75</td>\n",
       "      <td>0.045</td>\n",
       "      <td>0.03</td>\n",
       "      <td>18.0</td>\n",
       "      <td>3.0</td>\n",
       "      <td>11.00</td>\n",
       "      <td>0.10</td>\n",
       "      <td>...</td>\n",
       "      <td>0.0</td>\n",
       "      <td>0.0</td>\n",
       "      <td>65.045</td>\n",
       "      <td>20</td>\n",
       "      <td>2</td>\n",
       "      <td>1</td>\n",
       "      <td>2.9500</td>\n",
       "      <td>0.0</td>\n",
       "      <td>2.95</td>\n",
       "      <td>0.0</td>\n",
       "    </tr>\n",
       "    <tr>\n",
       "      <th>1540</th>\n",
       "      <td>329</td>\n",
       "      <td>0.08</td>\n",
       "      <td>1.00</td>\n",
       "      <td>0.75</td>\n",
       "      <td>0.040</td>\n",
       "      <td>0.03</td>\n",
       "      <td>23.0</td>\n",
       "      <td>1.0</td>\n",
       "      <td>2.00</td>\n",
       "      <td>0.00</td>\n",
       "      <td>...</td>\n",
       "      <td>0.0</td>\n",
       "      <td>0.0</td>\n",
       "      <td>72.100</td>\n",
       "      <td>20</td>\n",
       "      <td>2</td>\n",
       "      <td>1</td>\n",
       "      <td>2.9500</td>\n",
       "      <td>0.0</td>\n",
       "      <td>2.95</td>\n",
       "      <td>0.0</td>\n",
       "    </tr>\n",
       "    <tr>\n",
       "      <th>1541</th>\n",
       "      <td>S31803</td>\n",
       "      <td>0.03</td>\n",
       "      <td>2.00</td>\n",
       "      <td>1.00</td>\n",
       "      <td>0.030</td>\n",
       "      <td>0.02</td>\n",
       "      <td>21.0</td>\n",
       "      <td>2.5</td>\n",
       "      <td>4.50</td>\n",
       "      <td>0.08</td>\n",
       "      <td>...</td>\n",
       "      <td>0.0</td>\n",
       "      <td>0.0</td>\n",
       "      <td>68.840</td>\n",
       "      <td>20</td>\n",
       "      <td>2</td>\n",
       "      <td>1</td>\n",
       "      <td>2.9500</td>\n",
       "      <td>0.0</td>\n",
       "      <td>2.95</td>\n",
       "      <td>0.0</td>\n",
       "    </tr>\n",
       "    <tr>\n",
       "      <th>1542</th>\n",
       "      <td>316Ti</td>\n",
       "      <td>0.08</td>\n",
       "      <td>2.00</td>\n",
       "      <td>0.75</td>\n",
       "      <td>0.045</td>\n",
       "      <td>0.03</td>\n",
       "      <td>16.0</td>\n",
       "      <td>2.0</td>\n",
       "      <td>10.00</td>\n",
       "      <td>0.10</td>\n",
       "      <td>...</td>\n",
       "      <td>0.0</td>\n",
       "      <td>0.0</td>\n",
       "      <td>68.095</td>\n",
       "      <td>20</td>\n",
       "      <td>2</td>\n",
       "      <td>1</td>\n",
       "      <td>2.9500</td>\n",
       "      <td>0.0</td>\n",
       "      <td>2.95</td>\n",
       "      <td>0.0</td>\n",
       "    </tr>\n",
       "    <tr>\n",
       "      <th>1543</th>\n",
       "      <td>316Cb</td>\n",
       "      <td>0.08</td>\n",
       "      <td>2.00</td>\n",
       "      <td>0.75</td>\n",
       "      <td>0.045</td>\n",
       "      <td>0.03</td>\n",
       "      <td>16.0</td>\n",
       "      <td>2.0</td>\n",
       "      <td>10.00</td>\n",
       "      <td>0.10</td>\n",
       "      <td>...</td>\n",
       "      <td>0.8</td>\n",
       "      <td>0.0</td>\n",
       "      <td>68.195</td>\n",
       "      <td>20</td>\n",
       "      <td>2</td>\n",
       "      <td>1</td>\n",
       "      <td>2.9500</td>\n",
       "      <td>0.0</td>\n",
       "      <td>2.95</td>\n",
       "      <td>0.0</td>\n",
       "    </tr>\n",
       "  </tbody>\n",
       "</table>\n",
       "<p>1544 rows × 21 columns</p>\n",
       "</div>"
      ],
      "text/plain": [
       "     ASTM Material     C    Mn    Si      P     S    Cr   Mo     Ni     N  \\\n",
       "0              403  0.15  1.00  0.50  0.040  0.03  11.5  0.0   0.60  0.00   \n",
       "1              405  0.08  1.00  1.00  0.040  0.03  11.5  0.0   0.60  0.00   \n",
       "2           S41050  0.04  1.00  1.00  0.045  0.03  10.5  0.0   0.60  0.10   \n",
       "3              416  0.15  1.25  1.00  0.060  0.35  12.0  0.0   0.00  0.00   \n",
       "4              410  0.15  1.00  1.00  0.040  0.03  11.5  0.0   0.75  0.00   \n",
       "...            ...   ...   ...   ...    ...   ...   ...  ...    ...   ...   \n",
       "1539         317LN  0.03  2.00  0.75  0.045  0.03  18.0  3.0  11.00  0.10   \n",
       "1540           329  0.08  1.00  0.75  0.040  0.03  23.0  1.0   2.00  0.00   \n",
       "1541        S31803  0.03  2.00  1.00  0.030  0.02  21.0  2.5   4.50  0.08   \n",
       "1542         316Ti  0.08  2.00  0.75  0.045  0.03  16.0  2.0  10.00  0.10   \n",
       "1543         316Cb  0.08  2.00  0.75  0.045  0.03  16.0  2.0  10.00  0.10   \n",
       "\n",
       "      ...  Nb    Al  Fe balance (%)  Temperature  Behavior  Pitting_label  \\\n",
       "0     ...  0.0  0.0          86.180           20         1              0   \n",
       "1     ...  0.0  0.1          85.650           20         1              0   \n",
       "2     ...  0.0  0.0          86.685           20         1              0   \n",
       "3     ...  0.0  0.0          85.190           20         1              0   \n",
       "4     ...  0.0  0.0          85.530           20         1              0   \n",
       "...   ...  ...  ...             ...          ...       ...            ...   \n",
       "1539  ...  0.0  0.0          65.045           20         2              1   \n",
       "1540  ...  0.0  0.0          72.100           20         2              1   \n",
       "1541  ...  0.0  0.0          68.840           20         2              1   \n",
       "1542  ...  0.0  0.0          68.095           20         2              1   \n",
       "1543  ...  0.8  0.0          68.195           20         2              1   \n",
       "\n",
       "      [H+] (mol/dm3)  [OH-] (mol/dm3)  [Cl-] (mol/dm3)  [S2-] (mol/dm3)  \n",
       "0             2.6504              0.0             0.00              0.0  \n",
       "1             2.6504              0.0             0.00              0.0  \n",
       "2             2.6504              0.0             0.00              0.0  \n",
       "3             2.6504              0.0             0.00              0.0  \n",
       "4             2.6504              0.0             0.00              0.0  \n",
       "...              ...              ...              ...              ...  \n",
       "1539          2.9500              0.0             2.95              0.0  \n",
       "1540          2.9500              0.0             2.95              0.0  \n",
       "1541          2.9500              0.0             2.95              0.0  \n",
       "1542          2.9500              0.0             2.95              0.0  \n",
       "1543          2.9500              0.0             2.95              0.0  \n",
       "\n",
       "[1544 rows x 21 columns]"
      ]
     },
     "execution_count": 4,
     "metadata": {},
     "output_type": "execute_result"
    }
   ],
   "source": [
    "#Transform the labels from object (good, poor, Questionable, resistant) to int64 (0,1,2,3)readable by machine for calculating ROC curve\n",
    "\n",
    "def label_encoder(y):\n",
    "    le = LabelEncoder()\n",
    "    Data[y] = le.fit_transform(Data[y])\n",
    "label_list = [\"Behavior\"]\n",
    "for l in label_list:\n",
    "    label_encoder(l)\n",
    "Data"
   ]
  },
  {
   "cell_type": "code",
   "execution_count": 5,
   "metadata": {},
   "outputs": [],
   "source": [
    "#Split the data to the training data (80%) and testing data (20%)\n",
    "\n",
    "X=Data.drop([\"ASTM Material\",\"Behavior\",\"Pitting_label\"],axis=1)\n",
    "y=Data[\"Behavior\"]\n",
    "np.random.seed(0)\n",
    "X_train,X_test,y_train,y_test=train_test_split(X,y,test_size=0.2,shuffle=True)"
   ]
  },
  {
   "cell_type": "markdown",
   "metadata": {},
   "source": [
    "## Step 2: Train a decision tree model and accuracy calculation\n",
    "\n",
    "In this section, the DT model is fitted, and the accuracy of the model is calculated. To improve the accuracy of the model hyperparameter search is also applied. The performance of the model is also analyzed by confusion matrix. This model is selected as the best for Dataset No.2, So the importance of features are sorted in this section. "
   ]
  },
  {
   "cell_type": "code",
   "execution_count": 6,
   "metadata": {},
   "outputs": [
    {
     "name": "stdout",
     "output_type": "stream",
     "text": [
      "Decision Tree Accuracy:\n",
      " Train accuracy 100.00%\n",
      " Test accuracy  90.94%\n"
     ]
    }
   ],
   "source": [
    "#Fitting DT model\n",
    "decision_tree_model=sklearn.tree.DecisionTreeClassifier(random_state=0).fit(X_train,y_train)\n",
    "\n",
    "#accuracy calculation\n",
    "train_accuracy=sklearn.metrics.accuracy_score(y_train, decision_tree_model.predict(X_train))*100\n",
    "test_accuracy=sklearn.metrics.accuracy_score(y_test, decision_tree_model.predict(X_test))*100\n",
    "\n",
    "#printing the accuracy\n",
    "print('Decision Tree Accuracy:')\n",
    "print(' Train accuracy %.2f%%'%train_accuracy)\n",
    "print(' Test accuracy  %.2f%%'%test_accuracy)\n"
   ]
  },
  {
   "cell_type": "code",
   "execution_count": 7,
   "metadata": {},
   "outputs": [
    {
     "data": {
      "text/plain": [
       "GridSearchCV(cv=10, estimator=DecisionTreeClassifier(), n_jobs=-1,\n",
       "             param_grid={'criterion': ['gini', 'entropy'],\n",
       "                         'max_depth': [1, 2, 3, 4, 5, 6, 7, 8, 9, 10, 11, 12,\n",
       "                                       None]})"
      ]
     },
     "execution_count": 7,
     "metadata": {},
     "output_type": "execute_result"
    }
   ],
   "source": [
    "#hyperparameter search for decision tree\n",
    "\n",
    "param_dist={\"criterion\":[\"gini\",\"entropy\"],\n",
    "           \"max_depth\":[1,2,3,4,5,6,7,8,9,10,11,12,None]}\n",
    "clf=sklearn.tree.DecisionTreeClassifier()\n",
    "grid=GridSearchCV(clf,param_grid=param_dist, cv=10, n_jobs=-1,)\n",
    "random.seed(0)\n",
    "grid.fit(X_train,y_train)"
   ]
  },
  {
   "cell_type": "code",
   "execution_count": 8,
   "metadata": {},
   "outputs": [
    {
     "data": {
      "text/plain": [
       "DecisionTreeClassifier(criterion='entropy')"
      ]
     },
     "execution_count": 8,
     "metadata": {},
     "output_type": "execute_result"
    }
   ],
   "source": [
    "#finding the best estimator\n",
    "grid.best_estimator_"
   ]
  },
  {
   "cell_type": "code",
   "execution_count": 9,
   "metadata": {},
   "outputs": [
    {
     "data": {
      "text/plain": [
       "0.9255114083398899"
      ]
     },
     "execution_count": 9,
     "metadata": {},
     "output_type": "execute_result"
    }
   ],
   "source": [
    "#finding the best score\n",
    "grid.best_score_"
   ]
  },
  {
   "cell_type": "code",
   "execution_count": 10,
   "metadata": {},
   "outputs": [
    {
     "data": {
      "text/plain": [
       "{'criterion': 'entropy', 'max_depth': None}"
      ]
     },
     "execution_count": 10,
     "metadata": {},
     "output_type": "execute_result"
    }
   ],
   "source": [
    "#finding the best parameter\n",
    "grid.best_params_"
   ]
  },
  {
   "cell_type": "code",
   "execution_count": 11,
   "metadata": {},
   "outputs": [
    {
     "name": "stdout",
     "output_type": "stream",
     "text": [
      "Decision Tree Accuracy:\n",
      " Train accuracy 100.00%\n",
      " Test accuracy  93.53%\n"
     ]
    }
   ],
   "source": [
    "#Re-calculating the accuracies for DT model after hyperparameter search\n",
    "decision_tree_model=sklearn.tree.DecisionTreeClassifier(random_state=0, max_depth=None, criterion=\"entropy\").fit(X_train,y_train)\n",
    "\n",
    "#accuracy calculation\n",
    "train_accuracy=sklearn.metrics.accuracy_score(y_train, decision_tree_model.predict(X_train))*100\n",
    "test_accuracy=sklearn.metrics.accuracy_score(y_test, decision_tree_model.predict(X_test))*100\n",
    "\n",
    "#printing the accuracy\n",
    "print('Decision Tree Accuracy:')\n",
    "print(' Train accuracy %.2f%%'%train_accuracy)\n",
    "print(' Test accuracy  %.2f%%'%test_accuracy)"
   ]
  },
  {
   "cell_type": "code",
   "execution_count": 12,
   "metadata": {},
   "outputs": [
    {
     "data": {
      "text/html": [
       "<div>\n",
       "<style scoped>\n",
       "    .dataframe tbody tr th:only-of-type {\n",
       "        vertical-align: middle;\n",
       "    }\n",
       "\n",
       "    .dataframe tbody tr th {\n",
       "        vertical-align: top;\n",
       "    }\n",
       "\n",
       "    .dataframe thead th {\n",
       "        text-align: right;\n",
       "    }\n",
       "</style>\n",
       "<table border=\"1\" class=\"dataframe\">\n",
       "  <thead>\n",
       "    <tr style=\"text-align: right;\">\n",
       "      <th></th>\n",
       "      <th>Feature_names</th>\n",
       "      <th>Importances</th>\n",
       "    </tr>\n",
       "  </thead>\n",
       "  <tbody>\n",
       "    <tr>\n",
       "      <th>14</th>\n",
       "      <td>[H+] (mol/dm3)</td>\n",
       "      <td>0.379297</td>\n",
       "    </tr>\n",
       "    <tr>\n",
       "      <th>17</th>\n",
       "      <td>[S2-] (mol/dm3)</td>\n",
       "      <td>0.203372</td>\n",
       "    </tr>\n",
       "    <tr>\n",
       "      <th>12</th>\n",
       "      <td>Fe balance (%)</td>\n",
       "      <td>0.195032</td>\n",
       "    </tr>\n",
       "    <tr>\n",
       "      <th>6</th>\n",
       "      <td>Mo</td>\n",
       "      <td>0.049978</td>\n",
       "    </tr>\n",
       "    <tr>\n",
       "      <th>15</th>\n",
       "      <td>[OH-] (mol/dm3)</td>\n",
       "      <td>0.042289</td>\n",
       "    </tr>\n",
       "    <tr>\n",
       "      <th>16</th>\n",
       "      <td>[Cl-] (mol/dm3)</td>\n",
       "      <td>0.033826</td>\n",
       "    </tr>\n",
       "    <tr>\n",
       "      <th>0</th>\n",
       "      <td>C</td>\n",
       "      <td>0.023526</td>\n",
       "    </tr>\n",
       "    <tr>\n",
       "      <th>7</th>\n",
       "      <td>Ni</td>\n",
       "      <td>0.017804</td>\n",
       "    </tr>\n",
       "    <tr>\n",
       "      <th>3</th>\n",
       "      <td>P</td>\n",
       "      <td>0.014843</td>\n",
       "    </tr>\n",
       "    <tr>\n",
       "      <th>5</th>\n",
       "      <td>Cr</td>\n",
       "      <td>0.013215</td>\n",
       "    </tr>\n",
       "    <tr>\n",
       "      <th>8</th>\n",
       "      <td>N</td>\n",
       "      <td>0.008991</td>\n",
       "    </tr>\n",
       "    <tr>\n",
       "      <th>11</th>\n",
       "      <td>Al</td>\n",
       "      <td>0.008224</td>\n",
       "    </tr>\n",
       "    <tr>\n",
       "      <th>4</th>\n",
       "      <td>S</td>\n",
       "      <td>0.007869</td>\n",
       "    </tr>\n",
       "    <tr>\n",
       "      <th>1</th>\n",
       "      <td>Mn</td>\n",
       "      <td>0.001733</td>\n",
       "    </tr>\n",
       "    <tr>\n",
       "      <th>10</th>\n",
       "      <td>Nb</td>\n",
       "      <td>0.000000</td>\n",
       "    </tr>\n",
       "    <tr>\n",
       "      <th>13</th>\n",
       "      <td>Temperature</td>\n",
       "      <td>0.000000</td>\n",
       "    </tr>\n",
       "    <tr>\n",
       "      <th>2</th>\n",
       "      <td>Si</td>\n",
       "      <td>0.000000</td>\n",
       "    </tr>\n",
       "    <tr>\n",
       "      <th>9</th>\n",
       "      <td>Ti</td>\n",
       "      <td>0.000000</td>\n",
       "    </tr>\n",
       "  </tbody>\n",
       "</table>\n",
       "</div>"
      ],
      "text/plain": [
       "      Feature_names  Importances\n",
       "14   [H+] (mol/dm3)     0.379297\n",
       "17  [S2-] (mol/dm3)     0.203372\n",
       "12   Fe balance (%)     0.195032\n",
       "6                Mo     0.049978\n",
       "15  [OH-] (mol/dm3)     0.042289\n",
       "16  [Cl-] (mol/dm3)     0.033826\n",
       "0                 C     0.023526\n",
       "7                Ni     0.017804\n",
       "3                 P     0.014843\n",
       "5                Cr     0.013215\n",
       "8                 N     0.008991\n",
       "11               Al     0.008224\n",
       "4                 S     0.007869\n",
       "1                Mn     0.001733\n",
       "10              Nb      0.000000\n",
       "13      Temperature     0.000000\n",
       "2                Si     0.000000\n",
       "9                Ti     0.000000"
      ]
     },
     "execution_count": 12,
     "metadata": {},
     "output_type": "execute_result"
    },
    {
     "data": {
      "image/png": "[encoded data removed]",
      "text/plain": [
       "<Figure size 432x288 with 1 Axes>"
      ]
     },
     "metadata": {
      "needs_background": "light"
     },
     "output_type": "display_data"
    }
   ],
   "source": [
    "#Feature importance ranking for DT model\n",
    "decision_tree_model.feature_importances_\n",
    "df=pd.DataFrame({'Feature_names':X.columns,'Importances':decision_tree_model.feature_importances_})\n",
    "df_sorted=df.sort_values(by='Importances',ascending=False)\n",
    "plt.bar(df_sorted['Feature_names'],df_sorted['Importances'])\n",
    "plt.show\n",
    "df_sorted"
   ]
  },
  {
   "cell_type": "code",
   "execution_count": 13,
   "metadata": {},
   "outputs": [
    {
     "name": "stderr",
     "output_type": "stream",
     "text": [
      "/opt/anaconda3/lib/python3.9/site-packages/sklearn/utils/deprecation.py:87: FutureWarning: Function plot_confusion_matrix is deprecated; Function `plot_confusion_matrix` is deprecated in 1.0 and will be removed in 1.2. Use one of the class methods: ConfusionMatrixDisplay.from_predictions or ConfusionMatrixDisplay.from_estimator.\n",
      "  warnings.warn(msg, category=FutureWarning)\n"
     ]
    },
    {
     "data": {
      "image/png": "[encoded data removed]",
      "text/plain": [
       "<Figure size 432x288 with 2 Axes>"
      ]
     },
     "metadata": {
      "needs_background": "light"
     },
     "output_type": "display_data"
    }
   ],
   "source": [
    "#Confusion matrix for DT\n",
    "\n",
    "plt.rcParams[\"font.family\"] = \"Times New Roman\"\n",
    "plt.rcParams.update({'font.size': 15})\n",
    "plot_confusion_matrix(decision_tree_model, X_test, y_test, cmap='Blues')  \n",
    "plt.show()"
   ]
  },
  {
   "cell_type": "markdown",
   "metadata": {},
   "source": [
    "## Step 3: Train SVM, accuracy calculation, and hyperparameter search\n",
    "\n",
    "In this section, the SVM model with the defult hyperparameter values is fitted, and the accuracy of the model is calculated. Based on the initial accuracies and the results of the confusion matrix, we decided to tune the hyperparameters by hyperparameter search.The performance of the model is also analyzed by confusion matrix before and after hyperparameter tuning. "
   ]
  },
  {
   "cell_type": "code",
   "execution_count": 14,
   "metadata": {},
   "outputs": [
    {
     "name": "stdout",
     "output_type": "stream",
     "text": [
      "SVM model accuracy:\n",
      " Train accuracy 59.03% \n",
      " Test accuracy  53.07% \n"
     ]
    }
   ],
   "source": [
    "#Fitting SVM model\n",
    "svm_model=sklearn.svm.SVC(kernel='rbf').fit(X_train,y_train)\n",
    "\n",
    "#Accuracy calculation\n",
    "train_ac=sklearn.metrics.accuracy_score(y_train, svm_model.predict(X_train)) \n",
    "test_ac=sklearn.metrics.accuracy_score(y_test, svm_model.predict(X_test)) \n",
    "\n",
    "print('SVM model accuracy:')\n",
    "print(' Train accuracy %.2f%% '%(train_ac*100)) \n",
    "print(' Test accuracy  %.2f%% '%(test_ac*100))"
   ]
  },
  {
   "cell_type": "code",
   "execution_count": 15,
   "metadata": {},
   "outputs": [
    {
     "name": "stderr",
     "output_type": "stream",
     "text": [
      "/opt/anaconda3/lib/python3.9/site-packages/sklearn/utils/deprecation.py:87: FutureWarning: Function plot_confusion_matrix is deprecated; Function `plot_confusion_matrix` is deprecated in 1.0 and will be removed in 1.2. Use one of the class methods: ConfusionMatrixDisplay.from_predictions or ConfusionMatrixDisplay.from_estimator.\n",
      "  warnings.warn(msg, category=FutureWarning)\n"
     ]
    },
    {
     "data": {
      "image/png": "[encoded data removed]",
      "text/plain": [
       "<Figure size 432x288 with 2 Axes>"
      ]
     },
     "metadata": {
      "needs_background": "light"
     },
     "output_type": "display_data"
    }
   ],
   "source": [
    "#Confusion matrix for SVM before hypeparameter search\n",
    "\n",
    "plot_confusion_matrix(svm_model, X_test, y_test, cmap='Blues')  \n",
    "plt.show()"
   ]
  },
  {
   "cell_type": "code",
   "execution_count": 16,
   "metadata": {},
   "outputs": [
    {
     "name": "stdout",
     "output_type": "stream",
     "text": [
      "Fitting 3 folds for each of 20 candidates, totalling 60 fits\n"
     ]
    },
    {
     "data": {
      "text/plain": [
       "SVC(C=84.5912652804937, gamma=0.18439619501993143)"
      ]
     },
     "execution_count": 16,
     "metadata": {},
     "output_type": "execute_result"
    }
   ],
   "source": [
    "#Draw samples from reciprocal distribution for searching hyperparameters\n",
    "\n",
    "C=scipy.stats.reciprocal(1, 100)\n",
    "gamma=scipy.stats.reciprocal(0.01, 20)\n",
    "param_distributions={'C':C,'gamma':gamma}\n",
    "random_search=sklearn.model_selection.RandomizedSearchCV(svm_model, param_distributions,n_iter=20, cv=3, verbose=1, random_state=0).fit(X_train,y_train)\n",
    "random_search.best_estimator_"
   ]
  },
  {
   "cell_type": "code",
   "execution_count": 17,
   "metadata": {},
   "outputs": [
    {
     "name": "stdout",
     "output_type": "stream",
     "text": [
      "Random search:\n",
      " Train accuracy: 93.20% \n",
      " Test accuracy:  75.40% \n"
     ]
    }
   ],
   "source": [
    "#Accuracy calculation baesd on the hyperparameter search results (C,gamma) \n",
    "\n",
    "rs_train_ac=sklearn.metrics.accuracy_score(y_train, random_search.predict(X_train)) \n",
    "rs_test_ac=sklearn.metrics.accuracy_score(y_test, random_search.predict(X_test)) \n",
    "\n",
    "print('Random search:')\n",
    "print(' Train accuracy: %.2f%% '%(rs_train_ac*100)) \n",
    "print(' Test accuracy:  %.2f%% '%(rs_test_ac*100))"
   ]
  },
  {
   "cell_type": "code",
   "execution_count": 18,
   "metadata": {},
   "outputs": [
    {
     "name": "stderr",
     "output_type": "stream",
     "text": [
      "/opt/anaconda3/lib/python3.9/site-packages/sklearn/utils/deprecation.py:87: FutureWarning: Function plot_confusion_matrix is deprecated; Function `plot_confusion_matrix` is deprecated in 1.0 and will be removed in 1.2. Use one of the class methods: ConfusionMatrixDisplay.from_predictions or ConfusionMatrixDisplay.from_estimator.\n",
      "  warnings.warn(msg, category=FutureWarning)\n"
     ]
    },
    {
     "data": {
      "image/png": "[encoded data removed]",
      "text/plain": [
       "<Figure size 432x288 with 2 Axes>"
      ]
     },
     "metadata": {
      "needs_background": "light"
     },
     "output_type": "display_data"
    }
   ],
   "source": [
    "#Confusion matrix after hyperparameter tuning for SVM\n",
    "\n",
    "plot_confusion_matrix(random_search, X_test, y_test, cmap='Blues')  \n",
    "plt.show()"
   ]
  },
  {
   "cell_type": "markdown",
   "metadata": {},
   "source": [
    "## Step 4: Random forest classification\n",
    "\n",
    "Random Forest Classifier with random_state=0 is fitted to our training data. Also, a hyperparameter search between 1 to 50 is applied to find the best n_estimators for this algorithm. The confusion matrix is also used to analyze the performance of the model."
   ]
  },
  {
   "cell_type": "code",
   "execution_count": 19,
   "metadata": {},
   "outputs": [
    {
     "name": "stdout",
     "output_type": "stream",
     "text": [
      "Random Forest\n",
      " Train accuracy: 99.92% \n",
      " Test accuracy:  73.79% \n"
     ]
    }
   ],
   "source": [
    "random_forest=sklearn.ensemble.RandomForestClassifier().fit(X_train,y_train)\n",
    "accuracy_train=sklearn.metrics.accuracy_score(y_train, random_forest.predict(X_train))\n",
    "accuracy_test=sklearn.metrics.accuracy_score(y_test, random_forest.predict(X_test))\n",
    "print('Random Forest')\n",
    "print(' Train accuracy: %.2f%% '%(accuracy_train*100)) \n",
    "print(' Test accuracy:  %.2f%% '%(accuracy_test*100))"
   ]
  },
  {
   "cell_type": "code",
   "execution_count": 20,
   "metadata": {},
   "outputs": [
    {
     "name": "stdout",
     "output_type": "stream",
     "text": [
      "[0.71197411 0.66666667 0.69255663 0.66990291 0.69902913 0.69579288\n",
      " 0.71197411 0.70550162 0.70873786 0.70226537 0.70226537 0.70550162\n",
      " 0.71197411 0.71197411 0.7184466  0.7184466  0.71197411 0.72168285\n",
      " 0.7184466  0.72168285 0.72815534 0.72815534 0.73462783 0.73462783\n",
      " 0.73786408 0.73462783 0.73786408 0.73462783 0.72815534 0.73462783\n",
      " 0.73462783 0.73139159 0.73139159 0.72491909 0.73139159 0.72491909\n",
      " 0.72815534 0.73462783 0.73139159 0.73786408 0.73462783 0.73462783\n",
      " 0.73786408 0.74110032 0.73786408 0.73786408 0.73786408 0.73786408\n",
      " 0.73786408 0.74110032]\n",
      "(array([43, 49]),)\n"
     ]
    }
   ],
   "source": [
    "accuracies_test=np.array([])\n",
    "\n",
    "# Finding the index of best test accuracies for n_estimators between 1 to 50\n",
    "\n",
    "for i in range(1,51):\n",
    "    random_forest=sklearn.ensemble.RandomForestClassifier(random_state=0, n_estimators=i).fit(X_train,y_train)\n",
    "    accuracy_test=sklearn.metrics.accuracy_score(y_test, random_forest.predict(X_test))\n",
    "    accuracies_test=np.hstack((accuracies_test,accuracy_test))\n",
    "index_test=np.where(accuracies_test==np.amax(accuracies_test))\n",
    "print(accuracies_test) # print test accuracies of models with n_estimators between 1 to 50\n",
    "print(index_test)      # print the index of the highest test accuracies"
   ]
  },
  {
   "cell_type": "code",
   "execution_count": 21,
   "metadata": {},
   "outputs": [
    {
     "name": "stdout",
     "output_type": "stream",
     "text": [
      "Random Forest\n",
      " Train accuracy: 99.84% \n",
      " Test accuracy:  73.79% \n"
     ]
    }
   ],
   "source": [
    "# Fitting random forest model with n_estimators=8 according to one of the indexes obtained in the previous cell\n",
    "\n",
    "random_forest=sklearn.ensemble.RandomForestClassifier(random_state=0, n_estimators=43).fit(X_train,y_train)\n",
    "accuracy_train=sklearn.metrics.accuracy_score(y_train, random_forest.predict(X_train))\n",
    "accuracy_test=sklearn.metrics.accuracy_score(y_test, random_forest.predict(X_test))\n",
    "print('Random Forest')\n",
    "print(' Train accuracy: %.2f%% '%(accuracy_train*100)) \n",
    "print(' Test accuracy:  %.2f%% '%(accuracy_test*100))"
   ]
  },
  {
   "cell_type": "code",
   "execution_count": 22,
   "metadata": {},
   "outputs": [
    {
     "name": "stderr",
     "output_type": "stream",
     "text": [
      "/opt/anaconda3/lib/python3.9/site-packages/sklearn/utils/deprecation.py:87: FutureWarning: Function plot_confusion_matrix is deprecated; Function `plot_confusion_matrix` is deprecated in 1.0 and will be removed in 1.2. Use one of the class methods: ConfusionMatrixDisplay.from_predictions or ConfusionMatrixDisplay.from_estimator.\n",
      "  warnings.warn(msg, category=FutureWarning)\n"
     ]
    },
    {
     "data": {
      "image/png": "[encoded data removed]",
      "text/plain": [
       "<Figure size 432x288 with 2 Axes>"
      ]
     },
     "metadata": {
      "needs_background": "light"
     },
     "output_type": "display_data"
    }
   ],
   "source": [
    "#Confusion matrix for RF model\n",
    "plot_confusion_matrix(random_forest, X_test, y_test, cmap='Blues')  \n",
    "plt.show()"
   ]
  },
  {
   "cell_type": "markdown",
   "metadata": {},
   "source": [
    " ## Step 5: Bagging classifier\n",
    "\n",
    "Bagging classifier is fitted to the training data, and the accuracy of the model is increased by hyperparameter tuning."
   ]
  },
  {
   "cell_type": "code",
   "execution_count": 23,
   "metadata": {},
   "outputs": [
    {
     "name": "stdout",
     "output_type": "stream",
     "text": [
      "Accuracy: 0.8996763754045307\n"
     ]
    }
   ],
   "source": [
    "# Step 5: Bagging classifier\n",
    "dt=DecisionTreeClassifier()\n",
    "bag=BaggingClassifier(base_estimator=dt, n_estimators=10, random_state=0)\n",
    "bag.fit(X_train, y_train)\n",
    "y_pred=bag.predict(X_test)\n",
    "acc=accuracy_score(y_test, y_pred)\n",
    "print(\"Accuracy:\", acc)\n"
   ]
  },
  {
   "cell_type": "code",
   "execution_count": 24,
   "metadata": {},
   "outputs": [
    {
     "name": "stdout",
     "output_type": "stream",
     "text": [
      "Best params: {'n_estimators': 80}\n"
     ]
    }
   ],
   "source": [
    "dt = DecisionTreeClassifier()\n",
    "\n",
    "# Create a BaggingClassifier object with the DecisionTreeClassifier as the base estimator\n",
    "bag = BaggingClassifier(base_estimator=dt, random_state=0)\n",
    "\n",
    "\n",
    "params = {\n",
    "    'n_estimators': [50,60,80],\n",
    "}\n",
    "\n",
    "# Use GridSearchCV to search over the hyperparameters\n",
    "grid_search = GridSearchCV(bag, params, cv=None, scoring='accuracy')\n",
    "grid_search.fit(X, y)\n",
    "\n",
    "# Print the best hyperparameters and score\n",
    "print(f\"Best params: {grid_search.best_params_}\")"
   ]
  },
  {
   "cell_type": "code",
   "execution_count": 25,
   "metadata": {},
   "outputs": [
    {
     "name": "stdout",
     "output_type": "stream",
     "text": [
      "Accuracy: 0.9320388349514563\n"
     ]
    }
   ],
   "source": [
    "dt=DecisionTreeClassifier()\n",
    "bag=BaggingClassifier(base_estimator=dt, n_estimators=80, random_state=0)\n",
    "bag.fit(X_train, y_train)\n",
    "y_pred=bag.predict(X_test)\n",
    "acc=accuracy_score(y_test, y_pred)\n",
    "print(\"Accuracy:\", acc)"
   ]
  },
  {
   "cell_type": "code",
   "execution_count": 26,
   "metadata": {},
   "outputs": [
    {
     "name": "stderr",
     "output_type": "stream",
     "text": [
      "/opt/anaconda3/lib/python3.9/site-packages/sklearn/utils/deprecation.py:87: FutureWarning: Function plot_confusion_matrix is deprecated; Function `plot_confusion_matrix` is deprecated in 1.0 and will be removed in 1.2. Use one of the class methods: ConfusionMatrixDisplay.from_predictions or ConfusionMatrixDisplay.from_estimator.\n",
      "  warnings.warn(msg, category=FutureWarning)\n"
     ]
    },
    {
     "data": {
      "image/png": "[encoded data removed]",
      "text/plain": [
       "<Figure size 432x288 with 2 Axes>"
      ]
     },
     "metadata": {
      "needs_background": "light"
     },
     "output_type": "display_data"
    }
   ],
   "source": [
    "plt.rcParams[\"font.family\"] = \"Times New Roman\"\n",
    "plt.rcParams.update({'font.size': 15})\n",
    "plot_confusion_matrix(bag, X_test, y_test, cmap='Blues')  \n",
    "plt.show()"
   ]
  },
  {
   "cell_type": "code",
   "execution_count": null,
   "metadata": {},
   "outputs": [],
   "source": []
  }
 ],
 "metadata": {
  "kernelspec": {
   "display_name": "Python 3 (ipykernel)",
   "language": "python",
   "name": "python3"
  },
  "language_info": {
   "codemirror_mode": {
    "name": "ipython",
    "version": 3
   },
   "file_extension": ".py",
   "mimetype": "text/x-python",
   "name": "python",
   "nbconvert_exporter": "python",
   "pygments_lexer": "ipython3",
   "version": "3.9.12"
  }
 },
 "nbformat": 4,
 "nbformat_minor": 4
}
